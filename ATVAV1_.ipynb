{
  "nbformat": 4,
  "nbformat_minor": 0,
  "metadata": {
    "colab": {
      "provenance": [],
      "include_colab_link": true
    },
    "kernelspec": {
      "name": "python3",
      "display_name": "Python 3"
    },
    "language_info": {
      "name": "python"
    }
  },
  "cells": [
    {
      "cell_type": "markdown",
      "metadata": {
        "id": "view-in-github",
        "colab_type": "text"
      },
      "source": [
        "<a href=\"https://colab.research.google.com/github/patricia-moraes5/ALGESTDADOS_20251/blob/main/ATVAV1_.ipynb\" target=\"_parent\"><img src=\"https://colab.research.google.com/assets/colab-badge.svg\" alt=\"Open In Colab\"/></a>"
      ]
    },
    {
      "cell_type": "markdown",
      "source": [
        "**Lista de Exercícios I** - Estruturas Condicionais - Valor: 10 pontos\n",
        "  Patrícia Moraes Cardoso / Suelany Pinheiro Vieira Lima"
      ],
      "metadata": {
        "id": "Wg8APbsMC0NK"
      }
    },
    {
      "cell_type": "markdown",
      "source": [],
      "metadata": {
        "id": "qNgq9rX1CyWq"
      }
    },
    {
      "cell_type": "code",
      "source": [
        "#1. Peça um número ao usuário e verifique se ele é menor que 50. Informe o resultado com uma mensagem.\n",
        "num = int(input('informe um número? '))\n",
        "if num < 50:\n",
        "  print(f'o número informado é menor que 50')\n",
        "elif num == 50:\n",
        "  print(f'o número informado foi 50 ele não é maior ou menor que 50 ')\n",
        "else:\n",
        "  print(f'o número informado é maior que 50')\n"
      ],
      "metadata": {
        "colab": {
          "base_uri": "https://localhost:8080/"
        },
        "id": "Zvw4JlRJCZV8",
        "outputId": "3c4cb0c3-413e-443e-a84e-e7228629bbab"
      },
      "execution_count": null,
      "outputs": [
        {
          "output_type": "stream",
          "name": "stdout",
          "text": [
            "informe um número? 49\n",
            "o número informado é menor que 50\n"
          ]
        }
      ]
    },
    {
      "cell_type": "code",
      "source": [
        "#2. Solicite um número ao usuário e informe se ele é divisível por 7. Para isso, utilize uma verificação simples.\n",
        "num = int(input('informe o número? '))\n",
        "if num % 7 == 0:\n",
        "  print(f' é divisivel 7')\n",
        "else:\n",
        "    print(f' não é divisivel por 7')"
      ],
      "metadata": {
        "colab": {
          "base_uri": "https://localhost:8080/"
        },
        "id": "sfq4xClDI6d1",
        "outputId": "309ce6ab-6da9-43c1-ab0a-174c9a4cbb1a"
      },
      "execution_count": null,
      "outputs": [
        {
          "output_type": "stream",
          "name": "stdout",
          "text": [
            "informe o número?49\n",
            " é divisivel 7\n"
          ]
        }
      ]
    },
    {
      "cell_type": "code",
      "source": [
        "#3. Peça um nome ao usuário e verifique se ele contém a letra \"o\". Exiba uma mensagem informando o resultado.\n",
        "nome = input('informe o nome? ')\n",
        "if 'o' in nome:\n",
        "  print('Nesse nome contém a letra o ')\n",
        "else:\n",
        "  print('Nesse nome não contém a letra o ')"
      ],
      "metadata": {
        "id": "-E89KqMXLFuQ",
        "colab": {
          "base_uri": "https://localhost:8080/"
        },
        "outputId": "0bd4605d-bf66-407b-ebf1-7e9841628dfd"
      },
      "execution_count": null,
      "outputs": [
        {
          "output_type": "stream",
          "name": "stdout",
          "text": [
            "informe o nome?computador\n",
            "Nesse nome contém a letra o \n"
          ]
        }
      ]
    },
    {
      "cell_type": "code",
      "source": [
        "#4. Solicite um número inteiro e verifique se ele termina em 0. Utilize operações matemáticas para essa verificação.\n",
        "num = int(input('informe o número? '))\n",
        "if num % 10 == 0:\n",
        "  print('o número informado termina em 0')\n",
        "else:\n",
        "  print('o número informado não termina em 0')"
      ],
      "metadata": {
        "id": "e0kNoVCLUE_-",
        "colab": {
          "base_uri": "https://localhost:8080/"
        },
        "outputId": "13ef0f18-c228-4c96-b3ac-aba63ee48489"
      },
      "execution_count": null,
      "outputs": [
        {
          "output_type": "stream",
          "name": "stdout",
          "text": [
            "informe o numero?40\n",
            "o número informado termina em 0\n"
          ]
        }
      ]
    },
    {
      "cell_type": "code",
      "source": [
        "#5. Peça a idade de uma pessoa e informe se ela tem idade suficiente para votar (considerando 16 anos como idade mínima).\n",
        "idade = int(input('qual a sua idade? '))\n",
        "if idade >= 16:\n",
        "  print('você tem idade suficiente para votar')\n",
        "else:\n",
        "  print('você não tem idade suficiente para votar')"
      ],
      "metadata": {
        "colab": {
          "base_uri": "https://localhost:8080/"
        },
        "id": "TM55rfyxkV7x",
        "outputId": "422ff4d4-6ca9-4601-b1ff-a20dab741cac"
      },
      "execution_count": null,
      "outputs": [
        {
          "output_type": "stream",
          "name": "stdout",
          "text": [
            "qual a sua idade?15\n",
            "você não tem idade suficiente para votar\n"
          ]
        }
      ]
    },
    {
      "cell_type": "code",
      "source": [
        "#6. Solicite ao usuário que digite um único caractere e informe se ele é uma vogal (a, e, i, o, u).\n",
        "letra = input('digite um letra ')\n",
        "if letra == 'a' or letra == 'e' or letra == 'i' or letra == 'o' or letra == 'u':\n",
        " print('é uma vogal')\n",
        "else:\n",
        "  print('não é uma vogal')"
      ],
      "metadata": {
        "colab": {
          "base_uri": "https://localhost:8080/"
        },
        "id": "T2ai-fgplJXc",
        "outputId": "c58d5e2b-290a-49a9-c2bc-c34535f561e6"
      },
      "execution_count": null,
      "outputs": [
        {
          "output_type": "stream",
          "name": "stdout",
          "text": [
            "digite um letra a\n",
            "é uma vogal\n"
          ]
        }
      ]
    },
    {
      "cell_type": "code",
      "source": [
        "#7. Peça a temperatura atual em graus Celsius e classifique-a como \"abaixo de zero\", \"entre 0°C e 20°C\" ou \"acima de 20°C\".\n",
        "temp = int(input('qual a temperatura em celsius? '))\n",
        "if temp < 0:\n",
        "  print(' a temperatura está abaixo de 0°C')\n",
        "elif temp == 0 or temp <= 20:\n",
        "  print('a temperatura está entre 0 e 20°C')\n",
        "else:\n",
        "  print('a temperatura está acima de 20°C')"
      ],
      "metadata": {
        "colab": {
          "base_uri": "https://localhost:8080/"
        },
        "id": "dhIvGMHhnL7B",
        "outputId": "61ac5fca-29b7-4503-a5e7-ba067fd4d5d0"
      },
      "execution_count": null,
      "outputs": [
        {
          "output_type": "stream",
          "name": "stdout",
          "text": [
            "qual a temperatura em celsius? 56\n",
            "a temperatura está acima de 20°C\n"
          ]
        }
      ]
    },
    {
      "cell_type": "code",
      "source": [
        "#8. Solicite um número e informe se ele é maior que 1000. Exiba uma mensagem apropriada.\n",
        "num = int(input('informe um número '))\n",
        "if num > 1000:\n",
        "  print(' o número informado é maoir que 1000')\n",
        "else:\n",
        "  print('o número informado é menor que 1000')"
      ],
      "metadata": {
        "colab": {
          "base_uri": "https://localhost:8080/"
        },
        "id": "xFpDpN9Do3gN",
        "outputId": "2c069fdd-a497-4c1b-b6c0-b22f677c0085"
      },
      "execution_count": null,
      "outputs": [
        {
          "output_type": "stream",
          "name": "stdout",
          "text": [
            "informe um numero? 1100\n",
            " o numero informado é maoir que 1000\n"
          ]
        }
      ]
    },
    {
      "cell_type": "code",
      "source": [
        "#9. Peça um valor em reais e informe se ele é múltiplo de 50, ou seja, se o valor pode ser pago apenas com notas de R$50,00.\n",
        "valor = input('informe um valor em reais ')\n",
        "valor = valor.replace(',','.')\n",
        "valor = float(valor)\n",
        "if valor % 50 == 0:\n",
        "  print('o valor informado é um multiplo de 50, logo pode ser pago apenas com nota(s) de R$50,00')\n",
        "else:\n",
        "  print('o numero informado não é multiplo de 50, logo ele não pode ser pago apenas com nota(s) de R$50,00 ')"
      ],
      "metadata": {
        "colab": {
          "base_uri": "https://localhost:8080/"
        },
        "id": "y_lp4d24rml5",
        "outputId": "7f553acd-4a11-4c9a-f9f7-a800a842a9d9"
      },
      "execution_count": null,
      "outputs": [
        {
          "output_type": "stream",
          "name": "stdout",
          "text": [
            "informe um valor em reais 51,00\n",
            "o numero informado não é multiplo de 50, logo ele não pode ser pago apenas com nota(s) de R$50,00 \n"
          ]
        }
      ]
    },
    {
      "cell_type": "code",
      "source": [
        "#10. Solicite um número ao usuário e verifique se ele está no intervalo entre 100 e 200 (inclusive). Informe o resultado.\n",
        "x = int(input('informe um número '))\n",
        "if x > 100 and x < 200:\n",
        "  print('o numero informado está no intervalo de 100 á 200')\n",
        "else:\n",
        "  print('o numero informado não pertence ao intervalo de 100 á 200')"
      ],
      "metadata": {
        "colab": {
          "base_uri": "https://localhost:8080/"
        },
        "id": "T1gEd-LOuPSb",
        "outputId": "c4df8091-5e5e-4e78-ba9c-1522a8eaf2ac"
      },
      "execution_count": null,
      "outputs": [
        {
          "output_type": "stream",
          "name": "stdout",
          "text": [
            "informe um número 300\n",
            "o numero informado não pertence ao intervalo de 100 á 200\n"
          ]
        }
      ]
    },
    {
      "cell_type": "code",
      "source": [
        "#11. Peça a altura de uma árvore em metros e informe se ela tem menos de 5 metros de altura.\n",
        "altura = int(input(' qual o tamanho da árvore em metros? '))\n",
        "if altura < 5:\n",
        "  print('a árvore tem menos de 5 metros de altura')\n",
        "else:\n",
        "  print('a árvore tem 5 ou mais metros de altura')"
      ],
      "metadata": {
        "colab": {
          "base_uri": "https://localhost:8080/"
        },
        "id": "YQpkANarxTuy",
        "outputId": "87e04df2-34e9-4303-ae7c-b0494496a75f"
      },
      "execution_count": null,
      "outputs": [
        {
          "output_type": "stream",
          "name": "stdout",
          "text": [
            " qual o tamanho da árvore em metros? 3\n",
            "a árvore tem menos de 5 metros de altura\n"
          ]
        }
      ]
    },
    {
      "cell_type": "code",
      "source": [
        "#12. Solicite a temperatura de um líquido em graus Celsius e informe seu estado físico: \"congelado\" (≤0°C), \"líquido\" (0°C a 100°C) ou \"ebulição\" (>100°C).\n",
        "num = int(input('qual a temperatura do líquido? '))\n",
        "if num <= 0:\n",
        "  print('está congelado')\n",
        "elif num >= 0 and num <= 100:\n",
        "  print('está líquido')\n",
        "else:\n",
        "  print('está em ebulição')"
      ],
      "metadata": {
        "colab": {
          "base_uri": "https://localhost:8080/"
        },
        "id": "K2KHNAJ-yPFy",
        "outputId": "7c9d38db-20da-484d-a932-7c0f6612d66f"
      },
      "execution_count": null,
      "outputs": [
        {
          "output_type": "stream",
          "name": "stdout",
          "text": [
            "qual a temperatura do líquido? 150\n",
            "está em ebulição\n"
          ]
        }
      ]
    },
    {
      "cell_type": "code",
      "source": [
        "#13. Peça um número inteiro e verifique se ele é múltiplo de 10. Mostre uma mensagem indicando o resultado.\n",
        "num = int(input(' informe o número '))\n",
        "if num % 10 ==0:\n",
        "  print('o número informado é multiplo de 10')\n",
        "else:\n",
        "  print('o número informado não é multiplo de 10')"
      ],
      "metadata": {
        "colab": {
          "base_uri": "https://localhost:8080/"
        },
        "id": "5HtokSgNzjr4",
        "outputId": "d3b8a5f4-d435-4874-c05c-a2bfe41d6a64"
      },
      "execution_count": null,
      "outputs": [
        {
          "output_type": "stream",
          "name": "stdout",
          "text": [
            " informe o número 15\n",
            "o número informado não é multiplo de 10\n"
          ]
        }
      ]
    },
    {
      "cell_type": "code",
      "source": [
        "#14. Solicite a nota final de dois alunos e exiba qual deles teve a maior pontuação.\n",
        "nota_1 = float(input('qual a nota do primeiro aluno? '))\n",
        "nota_2 = float(input('qual a nota do segundo aluno? '))\n",
        "if nota_1 > nota_2:\n",
        "  print('o primeiro aluno teve a maior nota')\n",
        "elif nota_1 == nota_2:\n",
        "  print('os dois tiveram a mesma nota')\n",
        "else:\n",
        "  print('o segundo aluno teve a maior nota')\n"
      ],
      "metadata": {
        "colab": {
          "base_uri": "https://localhost:8080/"
        },
        "id": "fhIx4QU50UqG",
        "outputId": "2e95cd03-6299-41ac-a273-4c46f8094334"
      },
      "execution_count": null,
      "outputs": [
        {
          "output_type": "stream",
          "name": "stdout",
          "text": [
            "qual a nota do primeiro aluno? 10\n",
            "qual a nota do segundo aluno? 10\n",
            "os dois tiveram a mesma nota\n"
          ]
        }
      ]
    },
    {
      "cell_type": "code",
      "source": [
        "#15. Peça o nome de uma fruta e verifique se ela contém a letra \"e\". Exiba o resultado.\n",
        "nome = input('informe o nome de uma fruta ')\n",
        "if 'e' in nome:\n",
        "  print('o nome dessa fruta contém a letra e')\n",
        "else:\n",
        "  print('o nome dessa fruta não contém a letra e')"
      ],
      "metadata": {
        "colab": {
          "base_uri": "https://localhost:8080/"
        },
        "id": "laahzf601nfk",
        "outputId": "58d932d9-3adb-4b49-d6c4-0856b9d1215b"
      },
      "execution_count": null,
      "outputs": [
        {
          "output_type": "stream",
          "name": "stdout",
          "text": [
            "informe o nome de uma fruta pera\n",
            "o nome dessa fruta contém a letra e\n"
          ]
        }
      ]
    },
    {
      "cell_type": "code",
      "source": [
        "#16. Peça a velocidade de um carro em km/h e informe se ela ultrapassa o limite de 80 km/h.\n",
        "velocidade = float(input(\"Digite a velocidade do carro em km/h: \"))\n",
        "if velocidade > 80:\n",
        "  print('Ela ultrapassou o limite de velocidade de 80 km/h ?')\n",
        "else:\n",
        "  print('A Velocidade está dentro do limite permitido?')"
      ],
      "metadata": {
        "colab": {
          "base_uri": "https://localhost:8080/"
        },
        "id": "AiZiYbQOxn4E",
        "outputId": "fd3f75bb-b47b-44eb-e63d-79d67f8e0342"
      },
      "execution_count": null,
      "outputs": [
        {
          "output_type": "stream",
          "name": "stdout",
          "text": [
            "Digite a velocidade do carro em km/h: 200\n",
            "Ela ultrapassou o limite de velocidade de 80 km/h ?\n"
          ]
        }
      ]
    },
    {
      "cell_type": "code",
      "source": [
        "#17. Solicite um número ao usuário e informe se ele é divisível por 4 ou por 5. Exiba uma mensagem adequada.\n",
        "numero = int(input(\"Digite um número:\" ))\n",
        "if numero % 4 == 0 and numero % 5 == 0:\n",
        "  print(f\"o numero {numero} é divísivel por 4 e por 5. \")\n",
        "elif numero % 4 == 0:\n",
        "  print(f\"o número {numero} é divísivel por 4. \")\n",
        "elif numero % 5 == 0:\n",
        "  print(f\" o número {numero} é divísivel por 5. \")\n",
        "else:\n",
        "  print(f\"o número{numero} não é divísivel nem por 4 nem por 5\")\n"
      ],
      "metadata": {
        "colab": {
          "base_uri": "https://localhost:8080/"
        },
        "id": "_9eEx8FSyOwK",
        "outputId": "129f8425-67ce-418a-c5e9-a4d4f66bac6b"
      },
      "execution_count": null,
      "outputs": [
        {
          "output_type": "stream",
          "name": "stdout",
          "text": [
            "Digite um número:28\n",
            "o número 28 é divísivel por 4. \n"
          ]
        }
      ]
    },
    {
      "cell_type": "code",
      "source": [
        "#18. Peça uma palavra ao usuário e verifique se ela contém a letra \"z\". Mostre uma mensagem informando o resultado.\n",
        "nome = input('Digite um nome:')\n",
        "if 'a'in nome:\n",
        "  print('Contém a letra Z')\n",
        "else:\n",
        "  print('Não tem a letra Z')"
      ],
      "metadata": {
        "colab": {
          "base_uri": "https://localhost:8080/"
        },
        "id": "g4XyijKUyX9F",
        "outputId": "b6ffec5e-6550-4391-c230-277d283ae648"
      },
      "execution_count": null,
      "outputs": [
        {
          "output_type": "stream",
          "name": "stdout",
          "text": [
            "Digite um nome:paz\n",
            "Contém a letra Z\n"
          ]
        }
      ]
    },
    {
      "cell_type": "code",
      "source": [
        "#19. Solicite a quantidade de itens em um pedido e informe se ela é maior ou menor que 15 unidades.\n",
        "quantidade = int(input(\"Digite a quantidade de itens no pedido: \"))\n",
        "if quantidade > 15:\n",
        "    print(\"A quantidade de itens é maior que 15.\")\n",
        "elif quantidade < 15:\n",
        "    print(\"A quantidade de itens é menor que 15.\")\n",
        "else:\n",
        "    print(\"A quantidade de itens é exatamente 15.\")"
      ],
      "metadata": {
        "colab": {
          "base_uri": "https://localhost:8080/"
        },
        "id": "ue0mhytlynaR",
        "outputId": "bf7b0a65-be4b-4f41-a5d1-c2867391459b"
      },
      "execution_count": null,
      "outputs": [
        {
          "output_type": "stream",
          "name": "stdout",
          "text": [
            "Digite a quantidade de itens no pedido: 87\n",
            "A quantidade de itens é maior que 15.\n"
          ]
        }
      ]
    },
    {
      "cell_type": "code",
      "source": [
        "#20. Peça um número e verifique se ele termina com o dígito 7. Informe o resultado.\n",
        "num =input(\"Digite um número:\")\n",
        "if num [-1] == '7':\n",
        "    print(\"O numero termina com o digito 7.\")\n",
        "else:\n",
        "    print(\"O número Não termina com o dígito 7.\")"
      ],
      "metadata": {
        "colab": {
          "base_uri": "https://localhost:8080/"
        },
        "id": "vQPHOJPYyyeP",
        "outputId": "76aa8187-3547-42ab-ffa7-42b50d4e71e8"
      },
      "execution_count": null,
      "outputs": [
        {
          "output_type": "stream",
          "name": "stdout",
          "text": [
            "Digite um número:47\n",
            "O numero termina com o digito 7.\n"
          ]
        }
      ]
    },
    {
      "cell_type": "code",
      "source": [
        " #21. Solicite o ano de fabricação de um veículo e informe se ele tem mais de 20 anos.\n",
        "ano_fabricacao = int(input(\"Digite o ano de fabricação do veículo: \"))\n",
        "from datetime import datetime\n",
        "ano_atual = datetime.now().year\n",
        "idade_veiculo = ano_atual - ano_fabricacao\n",
        "if idade_veiculo > 20:\n",
        "    print(\"O veículo tem mais de 20 anos.\")\n",
        "else:\n",
        "    print(\"O veículo tem 20 anos ou menos.\")\n"
      ],
      "metadata": {
        "colab": {
          "base_uri": "https://localhost:8080/"
        },
        "id": "T9FDEoV0zD8j",
        "outputId": "e5e7f79b-726d-4bf7-b673-c2083179f0b9"
      },
      "execution_count": null,
      "outputs": [
        {
          "output_type": "stream",
          "name": "stdout",
          "text": [
            "Digite o ano de fabricação do veículo: 2001\n",
            "O veículo tem mais de 20 anos.\n"
          ]
        }
      ]
    },
    {
      "cell_type": "code",
      "source": [
        " #22. Peça um número de telefone e verifique se ele contém o dígito 9. Exiba o resultado.\n",
        "telefone = input(\"Digite um número de telefone: \")\n",
        "if '9' in telefone:\n",
        "  print(\"o número comtém o dígito 9 ? \")\n",
        "else:\n",
        "  print(\"O número Não contém o dígito 9 ?\")"
      ],
      "metadata": {
        "colab": {
          "base_uri": "https://localhost:8080/"
        },
        "id": "ZfnfLbJNzDwr",
        "outputId": "e30fa3ee-cd12-4fa3-b8c3-c661d43fe8d9"
      },
      "execution_count": null,
      "outputs": [
        {
          "output_type": "stream",
          "name": "stdout",
          "text": [
            "Digite um número de telefone: 27997508404\n",
            "o número comtém o dígito 9 ? \n"
          ]
        }
      ]
    },
    {
      "cell_type": "code",
      "source": [
        " #23. Solicite um número e informe se ele possui exatamente 2 dígitos.\n",
        "num = input( 'Digite um número' )\n",
        "if num.lstrip('-').isdigit() and 10 <= abs(int(num)) <= 99:\n",
        "   print(\"O número possui exatamente 2 dígitos?\")\n",
        "else:\n",
        "  print(\"O numero Não possui exatamente 2 dígitos?\")"
      ],
      "metadata": {
        "colab": {
          "base_uri": "https://localhost:8080/"
        },
        "id": "tC6MRsVYzDgt",
        "outputId": "c85b91c1-e12f-454f-c680-8ea2a6f04b82"
      },
      "execution_count": null,
      "outputs": [
        {
          "output_type": "stream",
          "name": "stdout",
          "text": [
            "Digite um número 35\n",
            "O numero Não possui exatamente 2 dígitos?\n"
          ]
        }
      ]
    },
    {
      "cell_type": "code",
      "source": [
        "#24. Peça o preço de um ingresso e aplique um desconto de 15%. Verifique se o preço com desconto ainda é superior a R$50,00 e exiba uma mensagem informando o resultado.\n",
        "preco = float(input('qual o proço do ingresso? R$ '))\n",
        "resultado = preco * 0.81\n",
        "if resultado > 50.00:\n",
        "  print(' o preso com desconto ainda é superior a cinquenta R$ 50,00')\n",
        "else:\n",
        "  print(' o preso com desconto inferior a R$ 50,00')"
      ],
      "metadata": {
        "id": "mWgdn3EAzHol",
        "colab": {
          "base_uri": "https://localhost:8080/"
        },
        "outputId": "220f8a44-c393-4b42-b15a-000de89b7293"
      },
      "execution_count": null,
      "outputs": [
        {
          "output_type": "stream",
          "name": "stdout",
          "text": [
            "qual o proço do ingresso? R$ 80\n",
            " o preso com desconto ainda é superior a cinquenta R$ 50,00\n"
          ]
        }
      ]
    },
    {
      "cell_type": "code",
      "source": [
        "#25. Solicite um número ao usuário e informe se ele é divisível por 8. Exiba o resultado.\n",
        "num = int(input(\"Digite um número: \"))\n",
        "if num % 8 == 0 :\n",
        "  print(f\"O número {num} é divisível por 8 \")\n",
        "else:\n",
        "  print(f\"O número {num} não é divisível por 8\")\n"
      ],
      "metadata": {
        "colab": {
          "base_uri": "https://localhost:8080/"
        },
        "id": "bWLPOLJEzHYo",
        "outputId": "6b55352f-f151-4416-fe57-1d9fa272e651"
      },
      "execution_count": null,
      "outputs": [
        {
          "output_type": "stream",
          "name": "stdout",
          "text": [
            "Digite um número: 2\n",
            "O número 2 não é divisível por 8\n"
          ]
        }
      ]
    },
    {
      "cell_type": "code",
      "source": [
        "#26. Peça um número e verifique se ele é divisível tanto por 5 quanto por 9. Informe o resultado.\n",
        "num = int(input(\"Digite um número: \"))\n",
        "if num % 5 == 0 and num % 9 == 0 :\n",
        "  print( f\"O número {num} é divisível por 5 e por 9?\")\n",
        "else:\n",
        "   print(f\" o número {num}'não é divisível por 5 e por 9? \")\n"
      ],
      "metadata": {
        "colab": {
          "base_uri": "https://localhost:8080/"
        },
        "id": "7feW-HsIzHF0",
        "outputId": "cfc39781-8838-4863-b530-ba598a2b3a30"
      },
      "execution_count": null,
      "outputs": [
        {
          "output_type": "stream",
          "name": "stdout",
          "text": [
            "Digite um número: 12\n",
            " o número 12'não é divisível por 5 e por 9? \n"
          ]
        }
      ]
    },
    {
      "cell_type": "code",
      "source": [
        "#27. Solicite o peso de um objeto em kg e informe se ele pesa mais de 25 kg.\n",
        "peso = float(input('qual o pesso do objeto em kg? '))\n",
        "if peso > 25.0:\n",
        "  print('esse peso está acima de 25 kg')\n",
        "else:\n",
        "  print('esse peso está abaixo de 25kg ou igual á 25kg')"
      ],
      "metadata": {
        "id": "iGvV3yitzGw9",
        "colab": {
          "base_uri": "https://localhost:8080/"
        },
        "outputId": "50ed335c-8414-4488-c2f4-efbf79bf1cb2"
      },
      "execution_count": null,
      "outputs": [
        {
          "output_type": "stream",
          "name": "stdout",
          "text": [
            "qual o pesso do objeto em kg25\n",
            "esse peso está abaixo de 25kg ou igual á 25kg\n"
          ]
        }
      ]
    },
    {
      "cell_type": "code",
      "source": [
        "#28. Peça uma letra ao usuário e informe se ela é uma vogal ou uma consoante. Considere letras minúsculas e maiúsculas.\n",
        "letra = input(\"Digite uma letra: \")\n",
        "if letra.lower() in 'aeiou':\n",
        "  print('A letra é uma vogal.')\n",
        "else:\n",
        "  print('A letra é uma consoante.')"
      ],
      "metadata": {
        "colab": {
          "base_uri": "https://localhost:8080/"
        },
        "id": "jSixzhFozGbt",
        "outputId": "ab109ca0-a651-48dc-97b2-9cde5692e98a"
      },
      "execution_count": null,
      "outputs": [
        {
          "output_type": "stream",
          "name": "stdout",
          "text": [
            "Digite uma letra: Avião\n",
            "A letra é uma consoante.\n"
          ]
        }
      ]
    },
    {
      "cell_type": "code",
      "source": [
        "#29. Solicite a velocidade de um veículo e informe se ela está abaixo, dentro ou acima do limite de 60 km/h.\n",
        "vel = int(input('velocidade do veiculo? '))\n",
        "if vel == 60:\n",
        "  print('essa velocidade está no limite')\n",
        "elif vel > 60:\n",
        "  print('essa velocidade está acima do limite')\n",
        "else:\n",
        "  print('essa velocidade está abaixo do limite')"
      ],
      "metadata": {
        "id": "O5Y2ocwszGKQ",
        "colab": {
          "base_uri": "https://localhost:8080/"
        },
        "outputId": "e88dca7d-12a6-4d90-ba9b-d287a501ad52"
      },
      "execution_count": null,
      "outputs": [
        {
          "output_type": "stream",
          "name": "stdout",
          "text": [
            "velocidade do veiculo? 70\n",
            "essa velocidade está acima do limite\n"
          ]
        }
      ]
    },
    {
      "cell_type": "code",
      "source": [
        "#30. Peça um valor em reais ao usuário e verifique se ele é suficiente para comprar um produto que custa R$200,00. Exiba uma mensagem com a resposta.\n",
        "valor = float(input(\"Digite o valor que você tem em reais: R$\"))\n",
        "if valor >= 200:\n",
        "  print(\"Ele tem dinheiro suficiente para comprar o produto?\")\n",
        "else:\n",
        "  print((\"Ele não tem dinheiro suficiente para comprar o produto.\"))"
      ],
      "metadata": {
        "colab": {
          "base_uri": "https://localhost:8080/"
        },
        "id": "BtHNifSozF5S",
        "outputId": "65497837-2c7b-4865-8b6d-9aec1f316e39"
      },
      "execution_count": null,
      "outputs": [
        {
          "output_type": "stream",
          "name": "stdout",
          "text": [
            "Digite o valor que você tem em reais: R$20\n",
            "Ele não tem dinheiro suficiente para comprar o produto.\n"
          ]
        }
      ]
    }
  ]
}