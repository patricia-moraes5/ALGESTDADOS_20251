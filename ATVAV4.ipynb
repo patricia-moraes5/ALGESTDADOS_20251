{
  "nbformat": 4,
  "nbformat_minor": 0,
  "metadata": {
    "colab": {
      "provenance": [],
      "include_colab_link": true
    },
    "kernelspec": {
      "name": "python3",
      "display_name": "Python 3"
    },
    "language_info": {
      "name": "python"
    }
  },
  "cells": [
    {
      "cell_type": "markdown",
      "metadata": {
        "id": "view-in-github",
        "colab_type": "text"
      },
      "source": [
        "<a href=\"https://colab.research.google.com/github/patricia-moraes5/ALGESTDADOS_20251/blob/main/ATVAV4.ipynb\" target=\"_parent\"><img src=\"https://colab.research.google.com/assets/colab-badge.svg\" alt=\"Open In Colab\"/></a>"
      ]
    },
    {
      "cell_type": "markdown",
      "metadata": {
        "id": "x3Cv2V2UiTTI"
      },
      "source": [
        "**Lista de Exercícios IV** - Linguagem Estruturado em Python - Valor: 15 pontos Patrícia Moraes Cardoso / Suelany Pinheiro Vieira Lima\n"
      ]
    },
    {
      "cell_type": "code",
      "execution_count": null,
      "metadata": {
        "id": "kv6CUpbgdmFP",
        "colab": {
          "base_uri": "https://localhost:8080/"
        },
        "outputId": "df652548-99e7-41b8-bb87-45cdf0062701"
      },
      "outputs": [
        {
          "output_type": "stream",
          "name": "stdout",
          "text": [
            "quantidade de pessoas? 25\n",
            "foi reservado7 mesas para 25 pesssoas\n",
            "ainda restam 3 mesas com 12 lugares.\n",
            "deseja continuar (S/N) n\n",
            "tchau!!\n"
          ]
        }
      ],
      "source": [
        "#1 Crie um algoritmo que simule um sistema de reservas de um restaurante. O programa deve solicitar o número de pessoas para a reserva e verificar se há disponibilidade, considerando que o restaurante possui apenas mesas de 4 lugares. Se o número de pessoas exceder a capacidade de uma mesa, o programa deve calcular quantas mesas serão necessárias e informar ao usuário.​\n",
        "mesa = 10\n",
        "lugares = mesa * 4\n",
        "while True:\n",
        "  reserva = int(input('quantidade de pessoas? '))\n",
        "  if reserva <= lugares:\n",
        "      if reserva%4 == 0:\n",
        "        print(f'foi reservado {reserva/4:.0f} mesas para {reserva} pesssoas')\n",
        "        mesa = mesa - (lugares / 4)\n",
        "        lugares -= reserva\n",
        "      else:\n",
        "        print(f'foi reservado{reserva/4+1:.0f} mesas para {reserva} pesssoas')\n",
        "        reservas = reserva + (4 - (reserva % 4))\n",
        "        mesas = mesa - (reservas/4)\n",
        "        lugares -= reservas\n",
        "      print(f'ainda restam {mesas:.0f} mesas com {lugares} lugares.')\n",
        "\n",
        "  else:\n",
        "    print(f'Não comporta, só restam {mesas:.0f} mesas com {lugares} lugares.')\n",
        "\n",
        "  opc = input('deseja continuar (S/N) ').upper()\n",
        "  if opc == 'N':\n",
        "    print('tchau!!')\n",
        "    break\n"
      ]
    },
    {
      "cell_type": "code",
      "source": [
        "#2 Desenvolva um algoritmo que auxilie na gestão de estoque de uma loja. O programa deve permitir que o usuário insira o nome e a quantidade de diferentes produtos. Se a quantidade de um produto for inferior a 5 unidades, o sistema deve alertar que o estoque está baixo e sugerir a reposição. O processo deve continuar até que o usuário decida encerrar.​\n",
        "while True:\n",
        "    produto = input('qual o produto? ')\n",
        "    quant = int(input(f'quantas peça são no total? {produto} : '))\n",
        "    if quant < 5:\n",
        "       print(f' O {produto} está com estoque baixo recomendo reposição')\n",
        "    else:\n",
        "      print(f'O {produto} foi registrado com sucesso')\n",
        "\n",
        "    cont = input('digite (S) para sair ou qualquer outra tecla para continuar: ').upper()\n",
        "    if cont == 'S':\n",
        "      print('tchau!!')\n",
        "      break\n"
      ],
      "metadata": {
        "id": "DZp86Xdzedtg",
        "colab": {
          "base_uri": "https://localhost:8080/"
        },
        "outputId": "4043976a-bfdd-499e-c780-6ee9b781cf8c"
      },
      "execution_count": null,
      "outputs": [
        {
          "output_type": "stream",
          "name": "stdout",
          "text": [
            "qual o produto? lapis\n",
            "quantas peça são no total? lapis : 20\n",
            "O lapis foi registrado com sucesso\n",
            "digite (S) para sair ou qualquer outra tecla para continuar: l\n",
            "qual o produto? caderno\n",
            "quantas peça são no total? caderno : 3\n",
            " O caderno está com estoque baixo recomendo reposição\n",
            "digite (S) para sair ou qualquer outra tecla para continuar: s\n",
            "tchau!!\n"
          ]
        }
      ]
    },
    {
      "cell_type": "code",
      "source": [
        "#3 Elabore um algoritmo que simule um quiz de perguntas e respostas. O programa deve apresentar uma série de perguntas ao usuário, oferecer opções de resposta e verificar se a resposta fornecida está correta. Ao final, o sistema deve exibir a pontuação total do usuário e fornecer um feedback baseado no desempenho.​\n",
        "perguntas = [{\n",
        "    'pergunta': 'Quem proclamou a independecia do Brasil?',\n",
        "    'alternativas': ['A)Critovão Colombo', 'B)Pedro Alvares Cabral', 'C)Dom pedro I'],\n",
        "    'resposta': 'C)'},\n",
        "    {'pergunta': 'Quanto é 7 x 9 ?',\n",
        "    'alternativas': ['A) 63', 'B) 52', 'C) 56'],\n",
        "    'resposta': 'A)'},\n",
        "    {'pergunta': 'Qua foi a primeira capital do Brasil?',\n",
        "    'alternativas': ['A) bahia', 'B) salvador', 'C)Brasilia'],\n",
        "    'resposta': 'B)'}]\n",
        "pontuaçao = 0\n",
        "for p in perguntas:\n",
        "    print('\\n' + p['pergunta'])\n",
        "    for alt in p['alternativas']:\n",
        "        print(alt)\n",
        "    resposta = input(\"Sua resposta: \")\n",
        "    if resposta.upper() == p[\"resposta\"]:\n",
        "        print(\"Resposta correta!\")\n",
        "        pontuaçao += 1\n",
        "    else:\n",
        "        print(\"Resposta errada!\")\n",
        "\n",
        "print(f\"\\nVocê acertou {pontuaçao} de {len(perguntas)} perguntas.\")\n",
        "if pontuaçao == len(perguntas):\n",
        "    print(\"Parabéns! continue assim\")\n",
        "elif pontuaçao > 0:\n",
        "    print(\"Bom trabalho! Mas você pode melhor com um pouco de esforço\")\n",
        "else:\n",
        "    print(\"Não foi dessa vez!\")\n"
      ],
      "metadata": {
        "id": "LfTIqY9-ehHa",
        "colab": {
          "base_uri": "https://localhost:8080/"
        },
        "outputId": "7f5a380e-18d6-47df-c7aa-8fa227951b4a"
      },
      "execution_count": null,
      "outputs": [
        {
          "output_type": "stream",
          "name": "stdout",
          "text": [
            "\n",
            "Quem proclamou a independecia do Brasil?\n",
            "A)Critovão Colombo\n",
            "B)Pedro Alvares Cabral\n",
            "C)Dom pedro I\n",
            "Sua resposta: C)\n",
            "Resposta correta!\n",
            "\n",
            "Quanto é 7 x 9 ?\n",
            "A) 63\n",
            "B) 52\n",
            "C) 56\n",
            "Sua resposta: A)\n",
            "Resposta correta!\n",
            "\n",
            "Qua foi a primeira capital do Brasil?\n",
            "A) bahia\n",
            "B) salvador\n",
            "C)Brasilia\n",
            "Sua resposta: B)\n",
            "Resposta correta!\n",
            "\n",
            "Você acertou 3 de 3 perguntas.\n",
            "Parabéns! continue assim\n"
          ]
        }
      ]
    },
    {
      "cell_type": "code",
      "source": [
        "#4 Crie um algoritmo que simule um sistema de controle de acesso a um edifício. O programa deve solicitar ao usuário um código de acesso e verificar se ele é válido. Caso contrário, deve permitir novas tentativas até que o número máximo de 3 tentativas seja atingido. Se o acesso for concedido, uma mensagem de boas-vindas deve ser exibida; caso contrário, uma mensagem de bloqueio deve ser apresentada.​\n",
        "codigo = \"52680\"\n",
        "tent = 0\n",
        "max = 3\n",
        "while tent < max:\n",
        "  cod = input('digite o codigo de acesso com 5 digito:')\n",
        "  if cod == codigo:\n",
        "    print('acesso concedido')\n",
        "    break\n",
        "  else:\n",
        "    tent +=1\n",
        "    print(f'acesso negado, tentativas restantes{max-tent}')\n",
        "if tent == max:\n",
        "  print('acesso bloqueado, atingio o maximo de tentativa')\n"
      ],
      "metadata": {
        "id": "_PiTI_Zuek56",
        "colab": {
          "base_uri": "https://localhost:8080/"
        },
        "outputId": "0bc60dfc-a59e-4ef8-b884-0ea20a17f4c1"
      },
      "execution_count": null,
      "outputs": [
        {
          "output_type": "stream",
          "name": "stdout",
          "text": [
            "digite o codigo de acesso com 5 digito:21563\n",
            "acesso negado, tentativas restantes2\n",
            "digite o codigo de acesso com 5 digito:25603\n",
            "acesso negado, tentativas restantes1\n",
            "digite o codigo de acesso com 5 digito:52680\n",
            "acesso concedido\n"
          ]
        }
      ]
    },
    {
      "cell_type": "code",
      "source": [
        "#5 Desenvolva um algoritmo que ajude no planejamento de uma viagem de carro. O programa deve solicitar a distância total a ser percorrida, a capacidade do tanque de combustível do veículo e o consumo médio de combustível (km/l). Com base nessas informações, o sistema deve calcular quantas paradas para reabastecimento serão necessárias, assumindo que o motorista sempre reabastece o tanque completamente.​\n",
        "dist = float(input('digite a distancia da viagem em km/h:'))\n",
        "tanque = float(input('Qual a capacidade do tanque em litros?'))\n",
        "cons = float(input('digite o consumo médio do carro km/L:'))\n",
        "aut = tanque * cons\n",
        "reabastecer = dist / aut\n",
        "paradas_reabastecer = int(reabastecer)\n",
        "if reabastecer > paradas_reabastecer:\n",
        "    paradas_reabastecer += 1\n",
        "\n",
        "print(f\"\\nPara uma viagem de {dist} km, você precisará fazer {paradas_reabastecer} parada(s) para reabastecer.\")\n"
      ],
      "metadata": {
        "id": "R63bWfI7emdI",
        "colab": {
          "base_uri": "https://localhost:8080/"
        },
        "outputId": "33eb968d-62bf-4b2a-df65-bd975989c126"
      },
      "execution_count": null,
      "outputs": [
        {
          "output_type": "stream",
          "name": "stdout",
          "text": [
            "digite a distancia da viagem em km/h:300\n",
            "Qual a capacidade do tanque em litros?36\n",
            "digite o consumo médio do carro km/L:16\n",
            "\n",
            "Para uma viagem de 300.0 km, você precisará fazer 1 parada(s) para reabastecer.\n"
          ]
        }
      ]
    },
    {
      "cell_type": "code",
      "source": [
        "#6 Elabore um algoritmo que simule um sistema de avaliação de filmes. O programa deve permitir que o usuário insira o título de vários filmes e uma nota de 0 a 10 para cada um. Após o usuário finalizar as entradas, o sistema deve exibir a média das notas atribuídas e listar os filmes que receberam nota superior a 8, destacando-os como altamente recomendados.​\n",
        "nome_de_filme = []\n",
        "nota = []\n",
        "while True:\n",
        "    f = input(\"titulo ('termino' para encerrar o procedimento): \")\n",
        "    if f.lower() == \"termino\":\n",
        "        break\n",
        "    n = float(input(\"nota (0-10): \"))\n",
        "    nome_de_filme.append(f)\n",
        "    nota.append(n)\n",
        "if nome_de_filme:\n",
        "    m = sum(nota) / len(nota)\n",
        "    print(f\"\\nmedia: {m:.2f}\")\n",
        "    print(\"\\filme supimpa :\")\n",
        "    for i in range(len(nome_de_filme)):\n",
        "        if nota[i] > 8:\n",
        "            print(f\"- {nome_de_filme[i]}\")\n",
        "else:\n",
        "    print(\"incorreto (vai dar certo).\")\n"
      ],
      "metadata": {
        "id": "Dcs3vME_eoD2",
        "colab": {
          "base_uri": "https://localhost:8080/"
        },
        "outputId": "4cd70e30-b5ab-42e8-9ae4-aa4f411e7899"
      },
      "execution_count": null,
      "outputs": [
        {
          "output_type": "stream",
          "name": "stdout",
          "text": [
            "titulo ('termino' para encerrar o procedimento): barbe\n",
            "nota (0-10): 10\n",
            "titulo ('termino' para encerrar o procedimento): scooby-doo\n",
            "nota (0-10): 10\n",
            "titulo ('termino' para encerrar o procedimento): cinderela\n",
            "nota (0-10): 9\n",
            "titulo ('termino' para encerrar o procedimento): Batman\n",
            "nota (0-10): 10\n",
            "titulo ('termino' para encerrar o procedimento): vingadores  ultimato\n",
            "nota (0-10): 10\n",
            "titulo ('termino' para encerrar o procedimento): termino\n",
            "\n",
            "media: 9.80\n",
            "\filme supimpa :\n",
            "- barbe\n",
            "- scooby-doo\n",
            "- cinderela\n",
            "- Batman\n",
            "- vingadores  ultimato\n"
          ]
        }
      ]
    },
    {
      "cell_type": "code",
      "source": [
        "#7 Crie um algoritmo que simule um sistema de monitoramento de temperatura ambiente. O programa deve solicitar ao usuário que insira a temperatura registrada a cada hora durante um período de 24 horas. Ao final, o sistema deve calcular a temperatura média do dia, identificar a temperatura mais alta e a mais baixa registradas, e alertar se em algum momento a temperatura ultrapassou 30°C ou ficou abaixo de 15°C.​\n",
        "temp = []\n",
        "for i in range(24):\n",
        "  temperatura = int(input(f\"temperatura {i+1} hora: \"))\n",
        "  temp.append(temperatura)\n",
        "media = sum(temp) / len(temp)\n",
        "maxima = max(temp)\n",
        "minima = min(temp)\n",
        "print(f\"\\nmedia: {media:.2f}\")\n",
        "print(f\"maxima: {maxima}\")\n",
        "print(f\"minima: {minima}\")\n",
        "\n",
        "for t in temp:\n",
        "    if t > 30:\n",
        "        print(f\"Alerta: Temperatura acima de 30°C registrada ({t}°C).\")\n",
        "    elif t < 15:\n",
        "        print(f\"Alerta: Temperatura abaixo de 15°C registrada ({t}°C).\")"
      ],
      "metadata": {
        "id": "PCbHdiw3eqJc",
        "colab": {
          "base_uri": "https://localhost:8080/"
        },
        "outputId": "86808eb9-6197-4da0-ecc9-86dce576cb20"
      },
      "execution_count": null,
      "outputs": [
        {
          "output_type": "stream",
          "name": "stdout",
          "text": [
            "temperatura 1 hora: 20\n",
            "temperatura 2 hora: 15\n",
            "temperatura 3 hora: 25\n",
            "temperatura 4 hora: 37\n",
            "temperatura 5 hora: 30\n",
            "temperatura 6 hora: 22\n",
            "temperatura 7 hora: 27\n",
            "temperatura 8 hora: 28\n",
            "temperatura 9 hora: 15\n",
            "temperatura 10 hora: 24\n",
            "temperatura 11 hora: 20\n",
            "temperatura 12 hora: 18\n",
            "temperatura 13 hora: 29\n",
            "temperatura 14 hora: 14\n",
            "temperatura 15 hora: 23\n",
            "temperatura 16 hora: 22\n",
            "temperatura 17 hora: 12\n",
            "temperatura 18 hora: 26\n",
            "temperatura 19 hora: 12\n",
            "temperatura 20 hora: 35\n",
            "temperatura 21 hora: 37\n",
            "temperatura 22 hora: 45\n",
            "temperatura 23 hora: 22\n",
            "temperatura 24 hora: 15\n",
            "\n",
            "media: 23.88\n",
            "maxima: 45\n",
            "minima: 12\n",
            "Alerta: Temperatura acima de 30°C registrada (37°C).\n",
            "Alerta: Temperatura abaixo de 15°C registrada (14°C).\n",
            "Alerta: Temperatura abaixo de 15°C registrada (12°C).\n",
            "Alerta: Temperatura abaixo de 15°C registrada (12°C).\n",
            "Alerta: Temperatura acima de 30°C registrada (35°C).\n",
            "Alerta: Temperatura acima de 30°C registrada (37°C).\n",
            "Alerta: Temperatura acima de 30°C registrada (45°C).\n"
          ]
        }
      ]
    },
    {
      "cell_type": "code",
      "source": [
        "#8 Desenvolva um algoritmo que auxilie na organização de uma biblioteca pessoal. O programa deve permitir que o usuário insira o título e o autor de diversos livros. Após a inserção, o sistema deve oferecer a opção de buscar por livros de um autor específico e listar todos os títulos correspondentes. O processo deve continuar até que o usuário decida encerrar.​\n",
        "while True:\n",
        "  lista = []\n",
        "  nome = input(\"ponha lista ou 'sair' pra acabar: \")\n",
        "  if nome.lower() == \"sair\":\n",
        "        break\n",
        "  a = input(\"criator: \")\n",
        "  lista.append((nome, a))\n",
        "while True:\n",
        "    resposta = input(\"\\nprocurar por criador?(sim/nao) \")\n",
        "    if resposta.lower() != \"s\":\n",
        "        break\n",
        "    b = input(\"criator: \")\n",
        "    print:(\"frase\")\n",
        "    achou = False\n",
        "    for l in lista:\n",
        "        if l[1].lower() == b.lower():\n",
        "            print(f\"- {l[0]}\")\n",
        "            achou = True\n",
        "    if not achou:\n",
        "        print(\"nao tem frase\")\n"
      ],
      "metadata": {
        "id": "f6ikRnvPespK",
        "colab": {
          "base_uri": "https://localhost:8080/"
        },
        "outputId": "307c8387-a24b-4869-812c-070d883c2d1b"
      },
      "execution_count": null,
      "outputs": [
        {
          "name": "stdout",
          "output_type": "stream",
          "text": [
            "ponha lista ou 'sair' pra acabar: Não tenho certeza de nada, mas a visão das estrelas me faz sonhar\n",
            "criator:  Vincent van Gogh \n",
            "ponha lista ou 'sair' pra acabar: A arte é a mentira que nos permite conhecer a verdade\n",
            "criator:  Pablo Picasso\n",
            "ponha lista ou 'sair' pra acabar: Somente quando não se sabe mais o que está fazendo o pintor faz coisas boas\n",
            "criator:  Edgar Degas\n",
            "ponha lista ou 'sair' pra acabar: sair\n",
            "\n",
            "procurar por criador?(sim/nao) sim\n"
          ]
        }
      ]
    },
    {
      "cell_type": "code",
      "source": [
        "#9 Elabore um algoritmo que simule um sistema de gerenciamento de tarefas domésticas. O programa deve permitir que o usuário insira diferentes tarefas e atribua um nível de prioridade a cada uma (alto, médio ou baixo). O sistema deve então exibir as tarefas organizadas por ordem de prioridade, começando pelas de alta prioridade, e permitir que o usuário marque tarefas como concluídas.​\n",
        "lista = []\n",
        "while True:\n",
        "    tarefa = input(\"tarefa ou 'sair' para encerrar: \")\n",
        "    if tarefa.lower() == \"sair\":\n",
        "        break\n",
        "    prioridade = input(\"prioridade alto/medio/baixo: \").lower()\n",
        "    lista.append([tarefa, prioridade, False])\n",
        "\n",
        "print(\"\\nLista por prioridade:\")\n",
        "for nivel in [\"alto\", \"medio\", \"baixo\"]:\n",
        "    for i, x in enumerate(lista):\n",
        "        if x[1] == nivel and not x[2]:\n",
        "            print(f\"{i} - {x[0]} ({x[1]})\")\n",
        "\n",
        "while True:\n",
        "    escolha = input(\"\\nmarcar como concluida?(s/n): \")\n",
        "    if escolha.lower() != \"s\":\n",
        "        break\n",
        "    else:\n",
        "        i = int(input(\"numero da tarefa: \"))\n",
        "        if 0 <= i < len(lista):\n",
        "            lista[i][2] = True\n",
        "        print(\"Entrada inválida. Por favor, digite um número.\")\n",
        "\n",
        "    print(\"\\nLista ainda nao pendentes:\")\n",
        "    for nivel in [\"alto\", \"medio\", \"baixo\"]:\n",
        "        for j, x in enumerate(lista):\n",
        "            if x[1] == nivel and not x[2]:\n",
        "                print(f\"{j} - {x[0]} ({x[1]})\")\n"
      ],
      "metadata": {
        "id": "2wb2qh_eeunA",
        "colab": {
          "base_uri": "https://localhost:8080/"
        },
        "outputId": "5bf2bbe7-dce3-492c-c2be-c4e470d6667b"
      },
      "execution_count": null,
      "outputs": [
        {
          "name": "stdout",
          "output_type": "stream",
          "text": [
            "tarefa ou 'sair' para encerrar: lavar roupa\n",
            "prioridade alto/medio/baixo: alto\n",
            "tarefa ou 'sair' para encerrar: tomar banho\n",
            "prioridade alto/medio/baixo: alto\n",
            "tarefa ou 'sair' para encerrar: jogar\n",
            "prioridade alto/medio/baixo: baixo\n",
            "tarefa ou 'sair' para encerrar: beber agua\n",
            "prioridade alto/medio/baixo: alto\n",
            "tarefa ou 'sair' para encerrar: sair\n",
            "\n",
            "Lista por prioridade:\n",
            "0 - lavar roupa (alto)\n",
            "1 - tomar banho (alto)\n",
            "3 - beber agua (alto)\n",
            "2 - jogar (baixo)\n",
            "\n",
            "marcar como concluida?(s/n): sim\n"
          ]
        }
      ]
    },
    {
      "cell_type": "code",
      "source": [
        "#10 Crie um algoritmo que simule um sistema de acompanhamento de hábitos saudáveis. O programa deve permitir que o usuário registre diariamente a quantidade de copos de água ingeridos e o número de minutos dedicados a atividades físicas. Ao final de uma semana, o sistema deve calcular a média diária de consumo de água e de exercícios, compará-las com as recomendações de saúde (por exemplo, 8 copos de água e 30 minutos de exercício por dia), e fornecer um feedback sobre o desempenho do usuário.\n",
        "agua_por_dia = []\n",
        "exercicio_por_dia = []\n",
        "for d in range(4):\n",
        "    a = int(input(f\"por_dia {d+1} - litro de agua: \"))\n",
        "    b = int(input(f\"por_dia {d+1} - minutos de exercicio: \"))\n",
        "    agua_por_dia.append(a)\n",
        "    exercicio_por_dia.append(e)\n",
        "media_agua = sum(agua_por_dia) / 4\n",
        "media_exercicio = sum(exercicio_por_dia) / 4\n",
        "print(f\"\\media quantidade de agua: {m:.1f} litro\")\n",
        "print(f\"media quantidade de exercicio: {me:.1f} minutos\")\n",
        "if media_agua >= 8:\n",
        "    print(\"quantidade agua: certo\")\n",
        "else:\n",
        "    print(\"quantidade agua: devagar\")\n",
        "if media_exercicio >= 30:\n",
        "    print(\"exercicio: certo\")\n",
        "else:\n",
        "    print(\"exercicio: devagar\")"
      ],
      "metadata": {
        "id": "j4ZJBRL1ewmX",
        "colab": {
          "base_uri": "https://localhost:8080/"
        },
        "outputId": "74c98505-de07-48fc-eb3f-1fbe928813c5"
      },
      "execution_count": null,
      "outputs": [
        {
          "output_type": "stream",
          "name": "stdout",
          "text": [
            "por_dia 1 - litro de agua: 8\n",
            "por_dia 1 - minutos de exercicio: 30\n",
            "por_dia 2 - litro de agua: 2\n",
            "por_dia 2 - minutos de exercicio: 15\n",
            "por_dia 3 - litro de agua: 7\n",
            "por_dia 3 - minutos de exercicio: 15\n",
            "por_dia 4 - litro de agua: 30\n",
            "por_dia 4 - minutos de exercicio: 15\n",
            "\n",
            "media quantidade de agua: 5.0 litro\n",
            "media quantidade de exercicio: 12.0 minutos\n",
            "quantidade agua: certo\n",
            "exercicio: devagar\n"
          ]
        }
      ]
    }
  ]
}