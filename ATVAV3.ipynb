{
  "nbformat": 4,
  "nbformat_minor": 0,
  "metadata": {
    "colab": {
      "provenance": [],
      "include_colab_link": true
    },
    "kernelspec": {
      "name": "python3",
      "display_name": "Python 3"
    },
    "language_info": {
      "name": "python"
    }
  },
  "cells": [
    {
      "cell_type": "markdown",
      "metadata": {
        "id": "view-in-github",
        "colab_type": "text"
      },
      "source": [
        "<a href=\"https://colab.research.google.com/github/patricia-moraes5/ALGESTDADOS_20251/blob/main/ATVAV3.ipynb\" target=\"_parent\"><img src=\"https://colab.research.google.com/assets/colab-badge.svg\" alt=\"Open In Colab\"/></a>"
      ]
    },
    {
      "cell_type": "markdown",
      "source": [
        "Lista de Exercícios III - Listas, Matrizes, Dicionários, Tuplas e Conjuntos  - Valor: 15 pontos - Patrícia Moraes Cardoso / Suelany Pinheiro Vieira Lima\n"
      ],
      "metadata": {
        "id": "g4BWOjCtMo79"
      }
    },
    {
      "cell_type": "code",
      "execution_count": null,
      "metadata": {
        "id": "cNNHS7JLKUng",
        "colab": {
          "base_uri": "https://localhost:8080/"
        },
        "outputId": "8a27056a-b1c5-41ba-a908-ecfcf2815d00"
      },
      "outputs": [
        {
          "output_type": "stream",
          "name": "stdout",
          "text": [
            "digite um numero:1\n",
            "digite um numero:2\n",
            "digite um numero:3\n",
            "digite um numero:4\n",
            "digite um numero:5\n",
            "digite um numero:6\n",
            "digite um numero:7\n",
            "digite um numero:8\n",
            "digite um numero:9\n",
            "digite um numero:5\n",
            "digite um numero:0\n",
            "digite um numero:4\n",
            "digite um numero:6\n",
            "digite um numero:2\n",
            "digite um numero:7\n",
            "[0, 1, 2, 3, 4, 5, 6, 7, 8, 9]\n"
          ]
        }
      ],
      "source": [
        "#1. Crie uma lista com 15 números inteiros digitados pelo usuário. Em seguida, remova todos os números repetidos, mantendo a ordem original.\n",
        "lista = []\n",
        "for i in range(15):\n",
        "    lista.append(int(input('digite um numero:')))\n",
        "    lista = list(set(lista))\n",
        "print(lista)\n"
      ]
    },
    {
      "cell_type": "code",
      "source": [
        "#2. Escreva um programa que leia 10 nomes e 10 idades. Armazene os nomes em uma lista e as idades em outra. Em seguida, exiba o nome da pessoa mais velha.\n",
        "nome = []\n",
        "idade = []\n",
        "for i in range(10):\n",
        "    nome.append(input(f'digite um nome {i+1}° pessoa: '))\n",
        "    idade.append(int(input(f'digite a idade: ')))\n",
        "print(f'o mais velho é {nome[idade.index(max(idade))]}')\n",
        "\n"
      ],
      "metadata": {
        "id": "N6TwAfV8Ki9a",
        "colab": {
          "base_uri": "https://localhost:8080/"
        },
        "outputId": "e040dcec-e778-468e-d1b5-ddbd40841127"
      },
      "execution_count": null,
      "outputs": [
        {
          "output_type": "stream",
          "name": "stdout",
          "text": [
            "digite um nome 1° pessoa: lia\n",
            "digite a idade: 20\n",
            "digite um nome 2° pessoa: lua\n",
            "digite a idade: 16\n",
            "digite um nome 3° pessoa: mia\n",
            "digite a idade: 30\n",
            "digite um nome 4° pessoa: juca\n",
            "digite a idade: 70\n",
            "digite um nome 5° pessoa: jaime\n",
            "digite a idade: 20\n",
            "digite um nome 6° pessoa: geogia\n",
            "digite a idade: 50\n",
            "digite um nome 7° pessoa: marcos\n",
            "digite a idade: 36\n",
            "digite um nome 8° pessoa: joao\n",
            "digite a idade: 23\n",
            "digite um nome 9° pessoa: bia\n",
            "digite a idade: 27\n",
            "digite um nome 10° pessoa: lica\n",
            "digite a idade: 42\n",
            "o mais velho é juca\n"
          ]
        }
      ]
    },
    {
      "cell_type": "code",
      "source": [
        "#3. Faça um programa que leia uma lista de 10 números e divida todos os valores ímpares por 3 e os pares por 2, substituindo os valores originais.\n",
        "lista = []\n",
        "for i in range(10):\n",
        "    lista.append(int(input('digite um numero:')))\n",
        "    if lista[i] % 2 == 0:\n",
        "        lista[i] = lista[i] / 2\n",
        "    else:\n",
        "        lista[i] = lista[i] / 3\n",
        "print(lista)"
      ],
      "metadata": {
        "id": "H-MmeEWNKi2g",
        "colab": {
          "base_uri": "https://localhost:8080/"
        },
        "outputId": "7c7bad6a-f0c7-4887-db70-0026ea20e99e"
      },
      "execution_count": null,
      "outputs": [
        {
          "output_type": "stream",
          "name": "stdout",
          "text": [
            "digite um numero:2\n",
            "digite um numero:5\n",
            "digite um numero:6\n",
            "digite um numero:7\n",
            "digite um numero:9\n",
            "digite um numero:6\n",
            "digite um numero:9\n",
            "digite um numero:5\n",
            "digite um numero:8\n",
            "digite um numero:1\n",
            "[1.0, 1.6666666666666667, 3.0, 2.3333333333333335, 3.0, 3.0, 3.0, 1.6666666666666667, 4.0, 0.3333333333333333]\n"
          ]
        }
      ]
    },
    {
      "cell_type": "code",
      "source": [
        "#4. Solicite ao usuário uma frase. Armazene em uma lista cada palavra que começa com uma vogal. Exiba a lista resultante.\n",
        "lista = []\n",
        "frase = input('digite uma frase:')\n",
        "for palavra in frase.split():\n",
        "    if palavra[0] in 'aeiouAEIOU':\n",
        "        lista.append(palavra)\n",
        "print(lista)"
      ],
      "metadata": {
        "id": "qXfjefFNKiw3",
        "colab": {
          "base_uri": "https://localhost:8080/"
        },
        "outputId": "1e824b68-56bc-41b5-f995-67b322f38c43"
      },
      "execution_count": null,
      "outputs": [
        {
          "output_type": "stream",
          "name": "stdout",
          "text": [
            "digite uma frase:alagoas é bonita\n",
            "['alagoas']\n"
          ]
        }
      ]
    },
    {
      "cell_type": "code",
      "source": [
        "#5. Leia 10 números inteiros e armazene-os em uma lista. Em seguida, crie uma segunda lista apenas com os números primos da primeira.\n",
        "def eh_primo(numero):\n",
        "    if numero <= 2:\n",
        "        return False\n",
        "    for i in range(2, int(numero**0.5)+1):\n",
        "        if numero % i == 0:\n",
        "            return False\n",
        "    return True\n",
        "numeros = []\n",
        "for i in range(10):\n",
        "    numero = int(input(f'digite o {i+1}° numero:'))\n",
        "    numeros.append(numero)\n",
        "primo = [numero for numero in numeros if eh_primo(numero)]\n",
        "print(primo)"
      ],
      "metadata": {
        "id": "sAdP38QRKirX",
        "colab": {
          "base_uri": "https://localhost:8080/"
        },
        "outputId": "ba5e7498-33dc-4e65-98ac-3d21149da043"
      },
      "execution_count": null,
      "outputs": [
        {
          "output_type": "stream",
          "name": "stdout",
          "text": [
            "digite o 1° numero:1\n",
            "digite o 2° numero:2\n",
            "digite o 3° numero:3\n",
            "digite o 4° numero:11\n",
            "digite o 5° numero:16\n",
            "digite o 6° numero:13\n",
            "digite o 7° numero:5\n",
            "digite o 8° numero:3\n",
            "digite o 9° numero:6\n",
            "digite o 10° numero:9\n",
            "[3, 11, 13, 5, 3]\n"
          ]
        }
      ]
    },
    {
      "cell_type": "code",
      "source": [
        "#6. Escreva um programa que leia uma lista de 8 elementos e verifique se ela é palíndroma (lê-se igual de trás para frente).\n",
        "lista = []\n",
        "for i in range(8):\n",
        "    lista.append(int(input(f'digite {i+1} numero: ')))\n",
        "    if lista == lista[::-1]:\n",
        "        print('é palindroma')\n",
        "    else:\n",
        "        print('não é palindroma')"
      ],
      "metadata": {
        "id": "9mtp4TFsKikP",
        "colab": {
          "base_uri": "https://localhost:8080/"
        },
        "outputId": "79860a7d-561b-49f8-e884-3980a75611bf"
      },
      "execution_count": null,
      "outputs": [
        {
          "output_type": "stream",
          "name": "stdout",
          "text": [
            "digite 1 numero: 1\n",
            "é palindroma\n",
            "digite 2 numero: 2\n",
            "não é palindroma\n",
            "digite 3 numero: 3\n",
            "não é palindroma\n",
            "digite 4 numero: 4\n",
            "não é palindroma\n",
            "digite 5 numero: 5\n",
            "não é palindroma\n",
            "digite 6 numero: 6\n",
            "não é palindroma\n",
            "digite 7 numero: 7\n",
            "não é palindroma\n",
            "digite 8 numero: 8\n",
            "não é palindroma\n"
          ]
        }
      ]
    },
    {
      "cell_type": "code",
      "source": [
        "#7. Crie duas listas com 10 números inteiros aleatórios entre 1 e 100. Gere uma terceira lista contendo apenas os elementos que estão presentes em ambas (interseção).\n",
        "lista = []\n",
        "lista2 = []\n",
        "for i in range(10):\n",
        "    lista.append(int(input('digite um numero 1° lista:')))\n",
        "    lista2.append(int(input('digite um numero 2° lista:')))\n",
        "    lista3 = list(set(lista) & set(lista2))\n",
        "print(lista3)"
      ],
      "metadata": {
        "id": "7ScXY6CTKidx",
        "colab": {
          "base_uri": "https://localhost:8080/"
        },
        "outputId": "5ffceebf-e7eb-40ac-ff66-1ad84cabe691"
      },
      "execution_count": null,
      "outputs": [
        {
          "output_type": "stream",
          "name": "stdout",
          "text": [
            "digite um numero 1° lista:1\n",
            "digite um numero 2° lista:2\n",
            "digite um numero 1° lista:3\n",
            "digite um numero 2° lista:4\n",
            "digite um numero 1° lista:5\n",
            "digite um numero 2° lista:6\n",
            "digite um numero 1° lista:7\n",
            "digite um numero 2° lista:8\n",
            "digite um numero 1° lista:9\n",
            "digite um numero 2° lista:01\n",
            "digite um numero 1° lista:2\n",
            "digite um numero 2° lista:5\n",
            "digite um numero 1° lista:6\n",
            "digite um numero 2° lista:8\n",
            "digite um numero 1° lista:2\n",
            "digite um numero 2° lista:4\n",
            "digite um numero 1° lista:5\n",
            "digite um numero 2° lista:6\n",
            "digite um numero 1° lista:8\n",
            "digite um numero 2° lista:5\n",
            "[1, 2, 5, 6, 8]\n"
          ]
        }
      ]
    },
    {
      "cell_type": "code",
      "source": [
        "#8. Faça um programa que simule o sorteio de 6 números da Mega-Sena (entre 1 e 60) sem repetição. Armazene em uma lista e exiba.\n",
        "import random\n",
        "sorteio = sorted(random.sample(range(1, 61), 6))\n",
        "print(sorteio)"
      ],
      "metadata": {
        "id": "Xe1nalYgKiWg",
        "colab": {
          "base_uri": "https://localhost:8080/"
        },
        "outputId": "eb6f1452-7a25-448f-c284-cb342fea3dda"
      },
      "execution_count": null,
      "outputs": [
        {
          "output_type": "stream",
          "name": "stdout",
          "text": [
            "[20, 29, 34, 37, 47, 53]\n"
          ]
        }
      ]
    },
    {
      "cell_type": "code",
      "source": [
        "#9. Solicite ao usuário uma lista de 10 números. Crie uma nova lista onde cada elemento é o somatório de todos os elementos anteriores da lista original.\n",
        "lista = []\n",
        "for i in range(10):\n",
        "    lista.append(int(input('digite um numero:')))\n",
        "    lista2 = []\n",
        "    soma = 0\n",
        "    for numero in lista:\n",
        "        soma += numero\n",
        "        lista2.append(soma)\n",
        "print(lista2)"
      ],
      "metadata": {
        "id": "168YNMYvKiQT",
        "colab": {
          "base_uri": "https://localhost:8080/"
        },
        "outputId": "3d5a8ca1-dfff-4d84-9e1d-0d7e9785fee2"
      },
      "execution_count": null,
      "outputs": [
        {
          "output_type": "stream",
          "name": "stdout",
          "text": [
            "digite um numero:1\n",
            "digite um numero:2\n",
            "digite um numero:3\n",
            "digite um numero:4\n",
            "digite um numero:5\n",
            "digite um numero:6\n",
            "digite um numero:7\n",
            "digite um numero:8\n",
            "digite um numero:9\n",
            "digite um numero:10\n",
            "[1, 3, 6, 10, 15, 21, 28, 36, 45, 55]\n"
          ]
        }
      ]
    },
    {
      "cell_type": "code",
      "source": [
        "#10. Implemente uma lista de nomes e remova todos que tenham mais de 10 caracteres.\n",
        "lista = []\n",
        "for i in range(10):\n",
        "    lista.append(input('digite um nome:'))\n",
        "    lista = [nome for nome in lista if len(nome) <= 10]\n",
        "print(lista)"
      ],
      "metadata": {
        "id": "Z7hxCLciKiJC",
        "colab": {
          "base_uri": "https://localhost:8080/"
        },
        "outputId": "a2bd35c0-81a3-4804-b455-00a2d34afdf4"
      },
      "execution_count": null,
      "outputs": [
        {
          "output_type": "stream",
          "name": "stdout",
          "text": [
            "digite um nome:paty\n",
            "digite um nome:paralelepipedo\n",
            "digite um nome:lica\n",
            "digite um nome:caminhonete\n",
            "digite um nome:lua\n",
            "digite um nome:mia\n",
            "digite um nome:cinto\n",
            "digite um nome:pneu\n",
            "digite um nome:carro\n",
            "digite um nome:pena\n",
            "['paty', 'lica', 'lua', 'mia', 'cinto', 'pneu', 'carro', 'pena']\n"
          ]
        }
      ]
    },
    {
      "cell_type": "code",
      "source": [
        "#11. Crie uma matriz 4x4 com valores fornecidos pelo usuário. Exiba a soma dos elementos da diagonal secundária.\n",
        "matriz = []\n",
        "for i in range(4):\n",
        "    linha = []\n",
        "    for j in range(4):\n",
        "        linha.append(int(input(f'digite o elemento [{i+1},{j+1}]:')))\n",
        "    matriz.append(linha)\n",
        "soma = 0\n",
        "for i in range(4):\n",
        "    soma += matriz[i][3-i]\n",
        "print('soma dos elementos da diagonal secundária:', soma)"
      ],
      "metadata": {
        "id": "VVnTcmvOKiDa",
        "colab": {
          "base_uri": "https://localhost:8080/"
        },
        "outputId": "bdc644f1-19b9-460e-e92e-601c8812ba12"
      },
      "execution_count": null,
      "outputs": [
        {
          "output_type": "stream",
          "name": "stdout",
          "text": [
            "digite o elemento [1,1]:1\n",
            "digite o elemento [1,2]:2\n",
            "digite o elemento [1,3]:3\n",
            "digite o elemento [1,4]:4\n",
            "digite o elemento [2,1]:5\n",
            "digite o elemento [2,2]:6\n",
            "digite o elemento [2,3]:7\n",
            "digite o elemento [2,4]:8\n",
            "digite o elemento [3,1]:9\n",
            "digite o elemento [3,2]:10\n",
            "digite o elemento [3,3]:11\n",
            "digite o elemento [3,4]:21\n",
            "digite o elemento [4,1]:13\n",
            "digite o elemento [4,2]:14\n",
            "digite o elemento [4,3]:15\n",
            "digite o elemento [4,4]:16\n",
            "soma dos elementos da diagonal secundária: 34\n"
          ]
        }
      ]
    },
    {
      "cell_type": "code",
      "source": [
        "#12. Gere uma matriz 5x5 com números aleatórios entre 1 e 99. Em seguida, calcule a média dos elementos de cada linha e armazene os resultados em uma nova lista.\n",
        "matriz = []\n",
        "for i in range(5):\n",
        "    linha = []\n",
        "    for j in range(5):\n",
        "        linha.append(int(input(f'digite o elemento [{i+1},{j+1}]:')))\n",
        "    matriz.append(linha)\n",
        "    med = sum(linha) / 5\n",
        "    lista = [med]\n",
        "print(lista)"
      ],
      "metadata": {
        "id": "7bmb7RJxKh7i",
        "colab": {
          "base_uri": "https://localhost:8080/"
        },
        "outputId": "9ad66049-9e8b-4047-82bc-835bfd87996d"
      },
      "execution_count": null,
      "outputs": [
        {
          "output_type": "stream",
          "name": "stdout",
          "text": [
            "digite o elemento [1,1]:1\n",
            "digite o elemento [1,2]:2\n",
            "digite o elemento [1,3]:3\n",
            "digite o elemento [1,4]:4\n",
            "digite o elemento [1,5]:5\n",
            "digite o elemento [2,1]:6\n",
            "digite o elemento [2,2]:7\n",
            "digite o elemento [2,3]:8\n",
            "digite o elemento [2,4]:9\n",
            "digite o elemento [2,5]:10\n",
            "digite o elemento [3,1]:11\n",
            "digite o elemento [3,2]:12\n",
            "digite o elemento [3,3]:13\n",
            "digite o elemento [3,4]:14\n",
            "digite o elemento [3,5]:15\n",
            "digite o elemento [4,1]:16\n",
            "digite o elemento [4,2]:17\n",
            "digite o elemento [4,3]:18\n",
            "digite o elemento [4,4]:19\n",
            "digite o elemento [4,5]:20\n",
            "digite o elemento [5,1]:21\n",
            "digite o elemento [5,2]:22\n",
            "digite o elemento [5,3]:23\n",
            "digite o elemento [5,4]:24\n",
            "digite o elemento [5,5]:25\n",
            "[23.0]\n"
          ]
        }
      ]
    },
    {
      "cell_type": "code",
      "source": [
        "#13. Solicite uma matriz 3x3 preenchida pelo usuário. Verifique se ela é uma matriz identidade.\n",
        "matriz = []\n",
        "for i in range(3):\n",
        "    linha = []\n",
        "    for j in range(3):\n",
        "        linha.append(int(input(f'digite o elemento [{i+1},{j+1}]:')))\n",
        "    matriz.append(linha)\n",
        "    if matriz[i][j] == 1:\n",
        "        print('é identidade')\n",
        "    else:\n",
        "        print('não é identidade')"
      ],
      "metadata": {
        "id": "0gLGQICOKhz-",
        "colab": {
          "base_uri": "https://localhost:8080/"
        },
        "outputId": "f3be2597-e858-4720-fd6b-4d43364e746e"
      },
      "execution_count": null,
      "outputs": [
        {
          "output_type": "stream",
          "name": "stdout",
          "text": [
            "digite o elemento [1,1]:1\n",
            "digite o elemento [1,2]:2\n",
            "digite o elemento [1,3]:3\n",
            "não é identidade\n",
            "digite o elemento [2,1]:4\n",
            "digite o elemento [2,2]:5\n",
            "digite o elemento [2,3]:6\n",
            "não é identidade\n",
            "digite o elemento [3,1]:7\n",
            "digite o elemento [3,2]:8\n",
            "digite o elemento [3,3]:9\n",
            "não é identidade\n"
          ]
        }
      ]
    },
    {
      "cell_type": "code",
      "source": [
        "#14. Faça um programa que leia uma matriz 3x3 e verifique se ela é simétrica (igual à sua transposta).\n",
        "matriz = []\n",
        "for i in range(3):\n",
        "    linha = []\n",
        "    for j in range(3):\n",
        "        linha.append(int(input(f'digite o elemento [{i+1},{j+1}]:')))\n",
        "    matriz.append(linha)\n",
        "    matriz_transposta = []\n",
        "for j in range(3):\n",
        "    linha_transposta = []\n",
        "    for i in range(3):\n",
        "        linha_transposta.append(matriz[i][j])\n",
        "    matriz_transposta.append(linha_transposta)\n",
        "    if matriz == matriz_transposta:\n",
        "        print('é simétrica')\n",
        "    else:\n",
        "        print('não é simétrica')"
      ],
      "metadata": {
        "id": "O-VleIypKhtf",
        "colab": {
          "base_uri": "https://localhost:8080/"
        },
        "outputId": "cc68aaab-8458-40a8-f9ca-3dde83a33550"
      },
      "execution_count": null,
      "outputs": [
        {
          "output_type": "stream",
          "name": "stdout",
          "text": [
            "digite o elemento [1,1]:1\n",
            "digite o elemento [1,2]:2\n",
            "digite o elemento [1,3]:3\n",
            "digite o elemento [2,1]:4\n",
            "digite o elemento [2,2]:5\n",
            "digite o elemento [2,3]:6\n",
            "digite o elemento [3,1]:7\n",
            "digite o elemento [3,2]:8\n",
            "digite o elemento [3,3]:9\n",
            "não é simétrica\n",
            "não é simétrica\n",
            "não é simétrica\n"
          ]
        }
      ]
    },
    {
      "cell_type": "code",
      "source": [
        "#15. Crie uma matriz 5x3 onde cada elemento é igual ao produto de sua linha pelo valor da coluna. Exiba a matriz completa.\n",
        "matriz = []\n",
        "for i in range(5):\n",
        "    linha = []\n",
        "    for j in range(3):\n",
        "        elemento = (i + 1) * (j + 1)\n",
        "        linha.append(elemento)\n",
        "    matriz.append(linha)\n",
        "for linha in matriz:\n",
        "    print(linha)\n"
      ],
      "metadata": {
        "id": "j75By13YKhmz",
        "colab": {
          "base_uri": "https://localhost:8080/"
        },
        "outputId": "91f342ab-7458-4b63-c3ca-b96648287b56"
      },
      "execution_count": null,
      "outputs": [
        {
          "output_type": "stream",
          "name": "stdout",
          "text": [
            "[1, 2, 3]\n",
            "[2, 4, 6]\n",
            "[3, 6, 9]\n",
            "[4, 8, 12]\n",
            "[5, 10, 15]\n"
          ]
        }
      ]
    },
    {
      "cell_type": "code",
      "source": [
        "#16. Crie uma matriz 4x4 com números fornecidos pelo usuário. Encontre o menor valor de cada coluna e armazene em uma lista separada.\n",
        "matriz = []\n",
        "for i in range(4):\n",
        "    linha = []\n",
        "    for j in range(4):\n",
        "       linha.append(int(input(f'Digite o elemento [{i+1},{j+1}]:')))\n",
        "    matriz.append(linha)\n",
        "\n",
        "menores_colunas = []\n",
        "for j in range(4):\n",
        "    menor = matriz[0][j]\n",
        "    for i in range(1,4):\n",
        "        if matriz[i][j] < menor:\n",
        "            menor = matriz [i][j]\n",
        "    menores_colunas.append(menor)\n",
        "print('menores de cada coluna:' , menores_colunas)"
      ],
      "metadata": {
        "id": "fsZ3v5LtKhhx"
      },
      "execution_count": null,
      "outputs": []
    },
    {
      "cell_type": "code",
      "source": [
        "#17. Dada uma matriz 3x3 com valores reais, calcule o determinante (sem usar bibliotecas externas).\n",
        "matriz = []\n",
        "for i in range(3):\n",
        "    linha = []\n",
        "    for j in range(3):\n",
        "        linha.append(float(input(f'digite o elemento [{i+1},{j+1}]:')))\n",
        "    matriz.append(linha)\n",
        "a = matriz[0][0]*(matriz[1][1]*matriz[2][2] - matriz[1][2]*matriz[2][1])\n",
        "b = matriz[0][1]*(matriz[1][0]*matriz[2][2] - matriz[1][2]*matriz[2][0])\n",
        "c = matriz[0][2]*(matriz[1][0]*matriz[2][1] - matriz[1][2]*matriz[2][0])\n",
        "det = a - b + c\n",
        "print('determinande:',det)"
      ],
      "metadata": {
        "id": "_vAuvmN3KhbV"
      },
      "execution_count": null,
      "outputs": []
    },
    {
      "cell_type": "code",
      "source": [
        "#18. Faça um programa que leia duas matrizes 3x3 e calcule a matriz soma e a matriz diferença.\n",
        "A = []\n",
        "B = []\n",
        "for i in range(3):\n",
        "    linhaA = []\n",
        "    linhaB = []\n",
        "    for j in range(3):\n",
        "        linhaA.append(int(input(f'A[{i+1},{j+1}]:')))\n",
        "        linhaB.append(int(input(f'B[{i+1},{j+1}]:')))\n",
        "    A.append(linhaA)\n",
        "    B.append(linhaB)\n",
        "\n",
        "# Move the calculation loops outside the input loops\n",
        "soma = []\n",
        "diferença = []\n",
        "for i in range(3):\n",
        "    linha_soma =[]\n",
        "    linha_dif = []\n",
        "    for j in range(3):\n",
        "        linha_soma.append(A[i][j] + B[i][j])\n",
        "        linha_dif.append(A[i][j]- B[i][j])\n",
        "    soma.append(linha_soma)\n",
        "    diferença.append(linha_dif)\n",
        "\n",
        "print('Soma:', soma)\n",
        "print('Diferença:', diferença)\n"
      ],
      "metadata": {
        "id": "tLkP9FYyKhU_"
      },
      "execution_count": null,
      "outputs": []
    },
    {
      "cell_type": "code",
      "source": [
        "#19. Solicite dois conjuntos de 10 elementos fornecidos pelo usuário. Mostre a interseção, união e diferença (A - B e B - A).\n",
        "A = set()\n",
        "B = set()\n",
        "print('digite 10 elementos para o conjunto A:')\n",
        "for _ in range(10):\n",
        "    A.add(int(input()))\n",
        "print('digite 10 elementos para o conjunto B:')\n",
        "for _ in range(10):\n",
        "    B.add(int(input()))\n",
        "print('interseção:', A & B)\n",
        "print('União:', A | B)\n",
        "print('Diferença A - B:', A - B)\n",
        "print('Diferença B - A:', B - A)\n",
        "\n"
      ],
      "metadata": {
        "id": "MFH-vvoLKhNn"
      },
      "execution_count": null,
      "outputs": []
    },
    {
      "cell_type": "code",
      "source": [
        "#20. Crie um conjunto com todas as letras usadas em uma frase digitada pelo usuário, excluindo espaços e pontuação.\n",
        "frase = input('digite uma frase:')\n",
        "import string\n",
        "conjunto = set()\n",
        "for c in frase.lower():\n",
        "   if c.isalpha():\n",
        "     conjunto.add(c)\n",
        "print('letras distintas:', conjunto)"
      ],
      "metadata": {
        "id": "35j-UgelKhGl",
        "colab": {
          "base_uri": "https://localhost:8080/"
        },
        "outputId": "9ccb5058-3654-49b1-bcfb-4fe0b8315fe8"
      },
      "execution_count": null,
      "outputs": [
        {
          "output_type": "stream",
          "name": "stdout",
          "text": [
            "digite uma frase:vai dar certo\n",
            "letras distintas: {'v', 'o', 'd', 'e', 't', 'i', 'c', 'a', 'r'}\n"
          ]
        }
      ]
    },
    {
      "cell_type": "code",
      "source": [
        "#21. Escreva um programa que armazene em um conjunto todos os números entre 1 e 100 que não são múltiplos de 2 nem de 3.\n",
        "conjunto = set()\n",
        "for i in range(1,100):\n",
        "   if i % 2 != 0 and i % 3 != 0:\n",
        "       conjunto.add(i)\n",
        "print(conjunto)\n"
      ],
      "metadata": {
        "id": "mHi76faPKhAR",
        "colab": {
          "base_uri": "https://localhost:8080/"
        },
        "outputId": "de6ed71a-e363-4817-b25a-a2f09ff51c57"
      },
      "execution_count": null,
      "outputs": [
        {
          "output_type": "stream",
          "name": "stdout",
          "text": [
            "{1, 5, 7, 11, 13, 17, 19, 23, 25, 29, 31, 35, 37, 41, 43, 47, 49, 53, 55, 59, 61, 65, 67, 71, 73, 77, 79, 83, 85, 89, 91, 95, 97}\n"
          ]
        }
      ]
    },
    {
      "cell_type": "code",
      "source": [
        "#22. Solicite ao usuário que digite 10 palavras. Armazene em um conjunto todas as palavras distintas com mais de 5 letras.\n",
        "conjunto = set()\n",
        "for _ in range(10):\n",
        "    palavra = input('digite uma palavra:')\n",
        "    if len(palavra) > 5:\n",
        "        conjunto.add(palavra)\n",
        "print('palavras com mais de 5 letras:', conjunto)"
      ],
      "metadata": {
        "id": "LxeLeptfKg4K",
        "colab": {
          "base_uri": "https://localhost:8080/"
        },
        "outputId": "734f97f2-5c8c-44f3-f36c-68ef8f1b5624"
      },
      "execution_count": null,
      "outputs": [
        {
          "output_type": "stream",
          "name": "stdout",
          "text": [
            "digite uma palavra:paz\n",
            "digite uma palavra:lua\n",
            "digite uma palavra:sol\n",
            "digite uma palavra:terra\n",
            "digite uma palavra:mar\n",
            "digite uma palavra:estrelas\n",
            "digite uma palavra:vida\n",
            "digite uma palavra:uva\n",
            "digite uma palavra:arroz\n",
            "digite uma palavra:morango\n",
            "palavras com mais de 5 letras: {'morango', 'estrelas'}\n"
          ]
        }
      ]
    },
    {
      "cell_type": "code",
      "source": [
        "#23. Leia dois conjuntos de inteiros. Verifique se um é subconjunto do outro.\n",
        "matriz = [[1, 2, 3], [4, 5, 6], [7, 8, 9]]\n",
        "determinante = 0\n",
        "for i in range(3):\n",
        " determinante += matriz[0][i] * matriz[1][(i+1)%3] * matriz[2][(i+2)%3]\n",
        " print(\"O determinante da matriz é:\", determinante)"
      ],
      "metadata": {
        "id": "GxPR0OtUKgxu"
      },
      "execution_count": null,
      "outputs": []
    },
    {
      "cell_type": "code",
      "source": [
        "#24. Dado um conjunto de números inteiros, crie um novo conjunto com apenas os quadrados perfeitos encontrados.\n",
        "lista = [ 1,6,9,15,36,4,16,20,25]\n",
        "for i in range(len(lista)):\n",
        "  if lista[i] ** 0.5 == int(lista[i] ** 0.5):\n",
        "    print(lista[i])"
      ],
      "metadata": {
        "colab": {
          "base_uri": "https://localhost:8080/"
        },
        "outputId": "9af222b3-31a4-467b-9c59-40d349bb28ee",
        "id": "3zTTQjdrUrJ7"
      },
      "execution_count": null,
      "outputs": [
        {
          "output_type": "stream",
          "name": "stdout",
          "text": [
            "1\n",
            "9\n",
            "36\n",
            "4\n",
            "16\n",
            "25\n"
          ]
        }
      ]
    },
    {
      "cell_type": "code",
      "source": [
        "#25. Crie um dicionário que armazene o nome e o salário de 5 funcionários. Calcule o reajuste de 10% para salários inferiores a R$ 2.000 e atualize o dicionário.\n",
        "dic = {}\n",
        "for i in range(5):\n",
        "    nome = input('digite o nome:')\n",
        "    salario = float(input('digite o salario:'))\n",
        "    dic[nome] = salario\n",
        "    for i in dic:\n",
        "        if dic[i] < 2000:\n",
        "            dic[i] = dic[i] * 1.1\n",
        "print(dic)"
      ],
      "metadata": {
        "colab": {
          "base_uri": "https://localhost:8080/"
        },
        "outputId": "f8eeaea3-b602-40ed-94bf-8b92083580cd",
        "id": "mY8oOTxtUrJ7"
      },
      "execution_count": null,
      "outputs": [
        {
          "output_type": "stream",
          "name": "stdout",
          "text": [
            "digite o nome:paty\n",
            "digite o salario:1500\n",
            "digite o nome:lua\n",
            "digite o salario:190\n",
            "digite o nome:luca\n",
            "digite o salario:1800.50\n",
            "digite o nome:mica\n",
            "digite o salario:1400\n",
            "digite o nome:juca\n",
            "digite o salario:3000\n",
            "{'paty': 2196.150000000001, 'lua': 278.17900000000014, 'luca': 2178.6050000000005, 'mica': 1694.0000000000005, 'juca': 3000.0}\n"
          ]
        }
      ]
    },
    {
      "cell_type": "code",
      "source": [
        "#26. Faça um programa que armazene em um dicionário o nome de 5 alunos e uma lista com suas 3 notas. Depois, exiba o nome e a média de cada aluno.]\n",
        "alunos = {}\n",
        "for _ in range(5):\n",
        "    nome = input('nome do aluno:')\n",
        "    notas = []\n",
        "    for i in range(3):\n",
        "        notas.append(float(input(f'nota {i+1}:')))\n",
        "    alunos[nome] = notas\n",
        "for nome, notas in alunos.items():\n",
        "    media = sum(notas)/len(notas)\n",
        "    print(f'{nome}: média = {media:.2f}')\n",
        "\n"
      ],
      "metadata": {
        "id": "MSVqnsXCKgev",
        "colab": {
          "base_uri": "https://localhost:8080/"
        },
        "outputId": "34938755-7768-469f-bb99-cc63410f0099"
      },
      "execution_count": null,
      "outputs": [
        {
          "output_type": "stream",
          "name": "stdout",
          "text": [
            "nome do aluno:ana\n",
            "nota 1:10\n",
            "nota 2:10\n",
            "nota 3:10\n",
            "nome do aluno:susu\n",
            "nota 1:101\n",
            "nota 2:10\n",
            "nota 3:1\n",
            "nome do aluno:ze\n",
            "nota 1:10\n",
            "nota 2:10\n",
            "nota 3:10\n",
            "nome do aluno:mara\n",
            "nota 1:10\n",
            "nota 2:9\n",
            "nota 3:10\n",
            "nome do aluno:duda\n",
            "nota 1:2\n",
            "nota 2:10\n",
            "nota 3:10\n",
            "ana: média = 10.00\n",
            "susu: média = 37.33\n",
            "ze: média = 10.00\n",
            "mara: média = 9.67\n",
            "duda: média = 7.33\n"
          ]
        }
      ]
    },
    {
      "cell_type": "code",
      "source": [
        "#27. Crie um dicionário que armazene palavras e seus sinônimos. Depois, permita que o usuário digite uma palavra e veja seus sinônimos (se existirem).\n",
        "dicionario = {}\n",
        "for _ in range(5):\n",
        "    palavra = input('digite uma palavra:')\n",
        "    sinonimo = input('sinonimos (separados por virgula):').split(',')\n",
        "    dicionario[palavra] = [s.strip() for s in sinonimo]\n",
        "consulta = input('digite uma palavra para consulta:')\n",
        "if consulta in dicionario:\n",
        "    print(f'Sinonimos:', dicionario[consulta])\n",
        "else:\n",
        "    print('palavra nao encontrada')\n"
      ],
      "metadata": {
        "id": "VjU4RBsTKgYT",
        "colab": {
          "base_uri": "https://localhost:8080/"
        },
        "outputId": "efdb4b22-adcf-4f97-ec6f-595c27bfa657"
      },
      "execution_count": null,
      "outputs": [
        {
          "output_type": "stream",
          "name": "stdout",
          "text": [
            "digite uma palavra:facíl\n",
            "sinonimos (separados por virgula):simples, rápido\n",
            "digite uma palavra:viver\n",
            "sinonimos (separados por virgula):sobreviver\n",
            "digite uma palavra:animal\n",
            "sinonimos (separados por virgula):bravo,bicho\n",
            "digite uma palavra:loucura\n",
            "sinonimos (separados por virgula):louco, alucinado\n",
            "digite uma palavra:vencer\n",
            "sinonimos (separados por virgula):conseguir, garantir\n",
            "digite uma palavra para consulta:ver\n",
            "palavra nao encontrada\n"
          ]
        }
      ]
    },
    {
      "cell_type": "code",
      "source": [
        "#28. Solicite ao usuário 10 palavras e armazene em um dicionário onde a chave é a primeira letra e o valor é uma lista de palavras que começam com essa letra.\n",
        "matriz = [[1, 2, 3], [4, 5, 6], [7, 8, 9]]\n",
        "determinante = 0\n",
        "for i in range(3):\n",
        " determinante += matriz[0][i] * matriz[1][(i+1)%3] * matriz[2][(i+2)%3]\n",
        "print(\"O determinante da matriz é:\", determinante)\n"
      ],
      "metadata": {
        "id": "kCLBOad9KgRu",
        "colab": {
          "base_uri": "https://localhost:8080/"
        },
        "outputId": "5cca7ea3-5d9e-4007-8075-ab779de67f15"
      },
      "execution_count": null,
      "outputs": [
        {
          "output_type": "stream",
          "name": "stdout",
          "text": [
            "O determinante da matriz é: 225\n"
          ]
        }
      ]
    },
    {
      "cell_type": "code",
      "source": [
        "#29. Crie um dicionário onde as chaves são nomes de produtos e os valores são listas com preços praticados em três lojas diferentes. Encontre o produto com maior variação de preço.\n",
        "produtos = {}\n",
        "for _ in range(3):\n",
        "    nome = input('nome do produto:')\n",
        "    preços = list(map(float, input('digite 3 preços separados por espaço: ').split()))\n",
        "    produtos[nome] = preços\n",
        "maior_variacao = 0\n",
        "produto_maior_variacao = ''\n",
        "for nome, preços in produtos.items():\n",
        "    variacao = max(preços) - min(preços)\n",
        "    if variacao > maior_variacao:\n",
        "         maior_variacao = variacao\n",
        "         produto_maior_variacao = nome\n",
        "print(f'Produto com maior variação de preço: {produto_maior_variacao}')\n",
        "\n"
      ],
      "metadata": {
        "id": "irblHqOpKgJx",
        "colab": {
          "base_uri": "https://localhost:8080/"
        },
        "outputId": "e0874443-088c-4754-b342-efb5f8ccf0e2"
      },
      "execution_count": null,
      "outputs": [
        {
          "output_type": "stream",
          "name": "stdout",
          "text": [
            "nome do produto:blusa\n",
            "digite 3 preços separados por espaço: 25  17  12\n",
            "nome do produto:camisa\n",
            "digite 3 preços separados por espaço: 25  35  19\n",
            "nome do produto:sapato\n",
            "digite 3 preços separados por espaço: 100 200 172\n",
            "Produto com maior variação de preço: sapato\n"
          ]
        }
      ]
    },
    {
      "cell_type": "code",
      "source": [
        "#30. Implemente um programa que leia uma frase e armazene em um dicionário o número de ocorrências de cada palavra (ignorando letras maiúsculas/minúsculas).\n",
        "frase = input('digite uma frase:')\n",
        "frase = frase.lower()\n",
        "palavras = frase.split()\n",
        "contagem = {}\n",
        "for palavra in palavras:\n",
        "  palavra = ''.join(c for c in palavra if c.isalpha())\n",
        "  if palavra in contagem:\n",
        "    contagem[palavra] += 1\n",
        "  else:\n",
        "    contagem[palavra] = 1\n",
        "print(contagem)"
      ],
      "metadata": {
        "id": "sTqWxqI1Kf4V",
        "colab": {
          "base_uri": "https://localhost:8080/"
        },
        "outputId": "ea571ba9-55ce-4515-f2de-cfc185f07d85"
      },
      "execution_count": null,
      "outputs": [
        {
          "output_type": "stream",
          "name": "stdout",
          "text": [
            "digite uma frase:lua linda\n",
            "{'lua': 1, 'linda': 1}\n"
          ]
        }
      ]
    }
  ]
}