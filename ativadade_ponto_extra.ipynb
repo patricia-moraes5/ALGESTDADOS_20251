{
  "nbformat": 4,
  "nbformat_minor": 0,
  "metadata": {
    "colab": {
      "provenance": [],
      "authorship_tag": "ABX9TyOVWyedbvFrAAqAkDjhpr6Z",
      "include_colab_link": true
    },
    "kernelspec": {
      "name": "python3",
      "display_name": "Python 3"
    },
    "language_info": {
      "name": "python"
    }
  },
  "cells": [
    {
      "cell_type": "markdown",
      "metadata": {
        "id": "view-in-github",
        "colab_type": "text"
      },
      "source": [
        "<a href=\"https://colab.research.google.com/github/patricia-moraes5/ALGESTDADOS_20251/blob/main/ativadade_ponto_extra.ipynb\" target=\"_parent\"><img src=\"https://colab.research.google.com/assets/colab-badge.svg\" alt=\"Open In Colab\"/></a>"
      ]
    },
    {
      "cell_type": "code",
      "source": [
        "#QUESTÃO 7 (2 PONTOS) – Escreva um código completo em Python que utilize a biblioteca DATETIME para obter e exibir o ano atual na tela.\n",
        "from datetime import datetime\n",
        "ano = datetime.now().year\n",
        "print(ano)"
      ],
      "metadata": {
        "colab": {
          "base_uri": "https://localhost:8080/"
        },
        "id": "UqhMC7ogzlcj",
        "outputId": "f706802a-4387-4e67-c1ee-8afb870328c3"
      },
      "execution_count": 23,
      "outputs": [
        {
          "output_type": "stream",
          "name": "stdout",
          "text": [
            "2025\n"
          ]
        }
      ]
    },
    {
      "cell_type": "code",
      "source": [
        "#QUESTÃO 8 (2 PONTOS) – Escreva um programa em Python que utilize um laço for para imprimir os números de 1 a 10. O programa deve pular os números múltiplos de 3 utilizando a estrutura condicional apropriada.\n",
        "for i in range(0,11):\n",
        "  if i % 3 == 0:\n",
        "    continue\n",
        "  print(i)\n"
      ],
      "metadata": {
        "colab": {
          "base_uri": "https://localhost:8080/"
        },
        "id": "S1rsgKY5zggc",
        "outputId": "de1bcaca-681f-4428-f2f0-b408c909106c"
      },
      "execution_count": 10,
      "outputs": [
        {
          "output_type": "stream",
          "name": "stdout",
          "text": [
            "1\n",
            "2\n",
            "4\n",
            "5\n",
            "7\n",
            "8\n",
            "10\n"
          ]
        }
      ]
    },
    {
      "cell_type": "code",
      "source": [
        "#QUESTÃO 9 (3 PONTOS) – A função INPUT() em Python é usada para receber entrada do usuário. Ela exibe uma mensagem (prompt), aguarda o que for digitado pelo teclado e retorna o valor como uma STRING. Crie um algoritmo em Python que solicite ao usuário uma frase qualquer.O programa deve contar a quantidade de caracteres digitados, mas só deve exibir esse número se a frase tiver mais de 10 caracteres.\n",
        "frase = input('digite uma frase ')\n",
        "for i in range(len(frase)):\n",
        "  if i > 10:\n",
        "   print(len(frase))\n",
        "   break"
      ],
      "metadata": {
        "colab": {
          "base_uri": "https://localhost:8080/"
        },
        "id": "L-Y_H3iey-NL",
        "outputId": "c66f38d9-0fc2-4f42-9ae2-d5ec7dd002e7"
      },
      "execution_count": 21,
      "outputs": [
        {
          "output_type": "stream",
          "name": "stdout",
          "text": [
            "digite uma frase paralelepipedo\n",
            "14\n"
          ]
        }
      ]
    },
    {
      "cell_type": "code",
      "execution_count": 13,
      "metadata": {
        "colab": {
          "base_uri": "https://localhost:8080/"
        },
        "id": "uFQ5REawyhS4",
        "outputId": "0ec76edf-8651-4201-8e78-133e090f1c90"
      },
      "outputs": [
        {
          "output_type": "stream",
          "name": "stdout",
          "text": [
            "digite o valor do poteA 25\n",
            "digite o valor do poteB 48\n",
            "poteA é 48 valor e poteB 25 valor\n"
          ]
        }
      ],
      "source": [
        "#QUESTÃO 10 (3 PONTOS) - Em Python, uma variável é um nome associado a um espaço na memória usado para armazenar um único valor por vez. Ela permite guardar informações que podem ser reutilizadas ao longo do programa. Considere duas variáveis chamadas POTE_A e POTE_B. Escreva um algoritmo em Python que solicite ao usuário a inserção de um valor para cadauma dessas variáveis. No entanto, após a inserção, os valores devem ser trocados entre si, ou seja, o valor digitado inicialmente para POTE_A deve ser armazenado em POTE_B, e o valor de POTE_B deve ser armazenado em POTE_A. Importante: A troca deve ser feita de forma independente do momento da inserção, ou seja, não é permitido inverter os valores diretamente no momento do input. A lógica de troca deve ocorrer após a leitura dos dados.\n",
        "poteA = input('digite o valor do poteA ')\n",
        "poteB = input('digite o valor do poteB ')\n",
        "potea = poteB\n",
        "poteb = poteA\n",
        "print(f'poteA é {potea} valor e poteB {poteb} valor')"
      ]
    }
  ]
}