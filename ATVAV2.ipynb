{
  "cells": [
    {
      "cell_type": "markdown",
      "metadata": {
        "id": "view-in-github",
        "colab_type": "text"
      },
      "source": [
        "<a href=\"https://colab.research.google.com/github/patricia-moraes5/ALGESTDADOS_20251/blob/main/ATVAV2.ipynb\" target=\"_parent\"><img src=\"https://colab.research.google.com/assets/colab-badge.svg\" alt=\"Open In Colab\"/></a>"
      ]
    },
    {
      "cell_type": "markdown",
      "metadata": {
        "id": "x3Cv2V2UiTTI"
      },
      "source": [
        "**Lista de Exercícios II** - Estruturas Condicionais e Repetição - Valor: 10 pontos Patrícia Moraes Cardoso / Suelany Pinheiro Vieira Lima\n"
      ]
    },
    {
      "cell_type": "code",
      "execution_count": null,
      "metadata": {
        "colab": {
          "base_uri": "https://localhost:8080/"
        },
        "id": "Re9b2JydgfVZ",
        "outputId": "a03a2162-e185-4939-f400-e0250ff6eb27"
      },
      "outputs": [
        {
          "name": "stdout",
          "output_type": "stream",
          "text": [
            "digite a hora de entrada: 2\n",
            "digite o minuto de entrada: 00\n",
            "digite a hora de saida: 15\n",
            "digite o minuto de saida: 00\n",
            "o funcionario trabalhou 12 horas e 0 minutos\n",
            "o funcionario cumpriu a jornada\n"
          ]
        }
      ],
      "source": [
        "#01 Crie um algoritmo que receba o horário (hora e minuto) de entrada e saída de um funcionário em um dia de trabalho. Calcule o tempo total trabalhado em horas e minutos, considerando que ele teve uma pausa de 1h para almoço, e diga se ele cumpriu uma jornada de pelo menos 8h diárias.\n",
        "hora_entrada = int(input('digite a hora de entrada: '))\n",
        "minuto_entrada = int(input('digite o minuto de entrada: '))\n",
        "hora_saida = int(input('digite a hora de saida: '))\n",
        "minuto_saida = int(input('digite o minuto de saida: '))\n",
        "hora_total = hora_saida - hora_entrada - 1\n",
        "minuto_total = minuto_saida - minuto_entrada\n",
        "if minuto_total < 0:\n",
        "  minuto_total = 60 + minuto_total\n",
        "  hora_total = hora_total - 1\n",
        "if hora_total < 0:\n",
        "  hora_total = 24 + hora_total\n",
        "print(f'o funcionario trabalhou {hora_total} horas e {minuto_total} minutos')\n",
        "if hora_total >= 8:\n",
        "    print('o funcionario cumpriu a jornada')\n",
        "else:\n",
        "    print('o funcionario nao cumpriu a jornada')\n"
      ]
    },
    {
      "cell_type": "code",
      "execution_count": null,
      "metadata": {
        "colab": {
          "base_uri": "https://localhost:8080/"
        },
        "id": "xM3h0BQQj_7E",
        "outputId": "c52e64a3-5af8-4a74-99a6-2496fd007dfa"
      },
      "outputs": [
        {
          "name": "stdout",
          "output_type": "stream",
          "text": [
            "Dia de nascimento: 29\n",
            "Mês de nascimento: 08\n",
            "Ano de nascimento: 2005\n",
            "Idade: 19 anos, 7 meses e 27 dias\n"
          ]
        }
      ],
      "source": [
        "#02 Crie um algoritmo que receba a data de nascimento (dia, mês e ano) de uma pessoa e a data atual, e diga com precisão sua idade em anos, meses e dias. Use condicionais para lidar com casos em que o mês ou dia ainda não tenha sido atingido no ano corrente.\n",
        "from datetime import date\n",
        "nasc_dia = int(input(\"Dia de nascimento: \"))\n",
        "nasc_mes = int(input(\"Mês de nascimento: \"))\n",
        "nasc_ano = int(input(\"Ano de nascimento: \"))\n",
        "hoje = date.today()\n",
        "hoje_dia = hoje.day\n",
        "hoje_mes = hoje.month\n",
        "hoje_ano = hoje.year\n",
        "anos = hoje_ano - nasc_ano\n",
        "meses = hoje_mes - nasc_mes\n",
        "dias = hoje_dia - nasc_dia\n",
        "if meses < 0 or (meses == 0 and dias < 0):\n",
        "    anos -= 1\n",
        "    meses += 12\n",
        "    if dias < 0:\n",
        "     meses -= 1\n",
        "if hoje_mes == 1:\n",
        "        mes_anterior = 12\n",
        "        ano_anterior = hoje_ano - 1\n",
        "else:\n",
        "        mes_anterior = hoje_mes - 1\n",
        "        ano_anterior = hoje_ano\n",
        "        dias_mes_anterior = (date(ano_anterior, mes_anterior + 1, 1) - date(ano_anterior, mes_anterior, 1)).days\n",
        "dias += dias_mes_anterior\n",
        "print(f\"Idade: {anos} anos, {meses} meses e {dias} dias\")"
      ]
    },
    {
      "cell_type": "code",
      "execution_count": null,
      "metadata": {
        "colab": {
          "base_uri": "https://localhost:8080/"
        },
        "id": "mSSrlIejkOHM",
        "outputId": "afbc6a1f-a7eb-45d3-ca7c-53c5f7346d16"
      },
      "outputs": [
        {
          "name": "stdout",
          "output_type": "stream",
          "text": [
            "digite o indice de poluente no primeiro horario: 23\n",
            "digite o indice de poluente no segundo horario: 89\n",
            "digite o indice de poluente no terceiro horario: 130\n",
            "o ar está moderado\n"
          ]
        }
      ],
      "source": [
        "#03 Elabore um algoritmo que simule um monitor de qualidade do ar. O usuário informará 3 valores de índice de poluentes de diferentes horários de um mesmo dia. O programa deve calcular a média e classificar como \"bom\", \"moderado\", \"ruim\", \"muito ruim\" ou \"péssimo\", com base em faixas fornecidas pelo código.\n",
        "ar1 = int(input('digite o indice de poluente no primeiro horario: '))\n",
        "ar2 = int(input('digite o indice de poluente no segundo horario: '))\n",
        "ar3 = int(input('digite o indice de poluente no terceiro horario: '))\n",
        "media = (ar1 + ar2 +ar3) / 3\n",
        "if media <= 50:\n",
        "  print('o ar está bom')\n",
        "elif media <= 100:\n",
        "  print('o ar está moderado')\n",
        "elif media <= 150:\n",
        "  print('o ar está ruim')\n",
        "elif media <= 200:\n",
        "  print('o ar está muito ruim')\n",
        "else:\n",
        "  print('o ar está pessimo')"
      ]
    },
    {
      "cell_type": "code",
      "execution_count": null,
      "metadata": {
        "colab": {
          "base_uri": "https://localhost:8080/"
        },
        "id": "8tQgWcs0kViU",
        "outputId": "bd53b127-799d-4738-f351-a69cc7b2d876"
      },
      "outputs": [
        {
          "name": "stdout",
          "output_type": "stream",
          "text": [
            "digite o valor em reais que abasteceu: 50\n",
            "digite o preço do litro: 6.59\n",
            "digite a quilometragem inicial: 12.350\n",
            "digite a quilometragem final: 12.400\n",
            "foram colocados 7.587253414264037 litros de gasolina\n",
            "A média em km/L foi de 0.006590000000000093\n",
            "o carro teve desempenho ruim\n"
          ]
        }
      ],
      "source": [
        "#04 Desenvolva um algoritmo que simule a geração de um extrato de abastecimento de combustível. O usuário deve informar o valor em reais que abasteceu, o preço do litro e a quilometragem inicial e final da viagem. Calcule quantos litros foram colocados e a média de km/l, informando se o carro teve desempenho bom (acima de 12 km/l), médio (8-12 km/l) ou ruim (abaixo de 8 km/l).\n",
        "valor = float(input('digite o valor em reais que abasteceu: '))\n",
        "preco = float(input('digite o preço do litro: '))\n",
        "Km_inicial = float(input('digite a quilometragem inicial: '))\n",
        "Km_final = float(input('digite a quilometragem final: '))\n",
        "litros = valor / preco\n",
        "print(f'foram colocados {litros} litros de gasolina')\n",
        "km_litro = (Km_final - Km_inicial) / litros\n",
        "print(f'A média em km/L foi de {km_litro}')\n",
        "if km_litro >= 12:\n",
        "  print('o carro teve desempenho bom')\n",
        "elif km_litro >= 8:\n",
        "  print('o carro teve desempenho médio')\n",
        "else:\n",
        "  print('o carro teve desempenho ruim')"
      ]
    },
    {
      "cell_type": "code",
      "execution_count": null,
      "metadata": {
        "colab": {
          "base_uri": "https://localhost:8080/"
        },
        "id": "sx5zaddQkbh2",
        "outputId": "23c6f571-1050-44db-ffef-114cf0ce671f"
      },
      "outputs": [
        {
          "name": "stdout",
          "output_type": "stream",
          "text": [
            "informe o nome: Paty\n",
            "iforme o tempo em minutos: 12\n",
            "iforme o tempo em minutos: 15\n",
            "iforme o tempo em minutos: 16\n",
            "iforme o tempo em minutos: 40\n",
            "iforme o tempo em minutos: 30\n",
            "iforme o tempo em minutos: 25\n",
            "iforme o tempo em minutos: 21\n",
            " a  Paty teve a média diaria 22.714285714285715 minutos, com a soma total de 159 minutos semanais\n",
            "a Paty atingiu o tempo minimo recomendado\n"
          ]
        }
      ],
      "source": [
        "#05 Crie um algoritmo que pergunte o nome e o tempo total (em minutos) gasto por uma pessoa em atividades físicas durante 7 dias. Ao final, mostre a média diária, a soma total e diga se ela atingiu o mínimo recomendado de 150 minutos semanais.\n",
        "nome = input('informe o nome: ')\n",
        "tempo_total = 0\n",
        "for i in range(7):\n",
        "    tempo = int(input('iforme o tempo em minutos: '))\n",
        "    tempo_total = tempo_total + tempo\n",
        "    media = tempo_total / 7\n",
        "print(f' a  {nome} teve a média diaria {media} minutos, com a soma total de {tempo_total} minutos semanais')\n",
        "if tempo_total >= 150:\n",
        "  print(f'a {nome} atingiu o tempo minimo recomendado')\n",
        "else:\n",
        "  print(f'a {nome} não atingiu o tempo minimo recomendado')"
      ]
    },
    {
      "cell_type": "code",
      "execution_count": null,
      "metadata": {
        "colab": {
          "base_uri": "https://localhost:8080/"
        },
        "id": "T4S09SOHkeXl",
        "outputId": "195f2a6f-83db-4f2b-bc93-0ba587c73338"
      },
      "outputs": [
        {
          "name": "stdout",
          "output_type": "stream",
          "text": [
            "digite o valor do hidrômetro no inicio do mes: 213\n",
            "digite o valor do hidrômetro no fim do mes: 350\n",
            "o consumo foi acima de 20 m³\n",
            "o valor a pagar é de R$ 150,00 que é a tarifa mais alta \n"
          ]
        }
      ],
      "source": [
        "#06 Desenvolva um algoritmo que simule o acompanhamento de consumo de água em uma residência. O usuário informará o valor do hidrômetro no início e no fim do mês. O sistema calculará o total consumido e o valor a pagar, seguindo uma tabela de faixas de consumo (ex: até 10 m³, tarifa fixa; de 11 a 20, valor extra por m³; acima de 20, tarifa mais alta).\n",
        "inicio = float(input('digite o valor do hidrômetro no inicio do mes: '))\n",
        "fim = float(input('digite o valor do hidrômetro no fim do mes: '))\n",
        "consumo = fim - inicio\n",
        "if consumo <= 10:\n",
        "  print('o consumo foi de até 10 m³')\n",
        "  print('o valor a pagar é de R$ 50,00 que é a tarifa fixa ')\n",
        "elif consumo <= 20:\n",
        "  print('o consumo foi de 11 a 20 m³')\n",
        "  print('o valor a pagar é de R$ 100,00 que tem o valor extra é de R$ 50,00')\n",
        "else:\n",
        "  print('o consumo foi acima de 20 m³')\n",
        "  print('o valor a pagar é de R$ 150,00 que é a tarifa mais alta ')\n"
      ]
    },
    {
      "cell_type": "code",
      "execution_count": null,
      "metadata": {
        "id": "KzUbEhJ5khZW",
        "colab": {
          "base_uri": "https://localhost:8080/"
        },
        "outputId": "966f2d91-fff3-45a3-dd6b-b11360a0e105"
      },
      "outputs": [
        {
          "output_type": "stream",
          "name": "stdout",
          "text": [
            "informe o horário previsto de chegada: \n",
            "hora (0-23):19\n",
            "minutos (0-59): 5\n",
            "\n",
            "Informe o horário real de chegada:\n",
            "hora(0-23):20\n",
            "minuto (0-59): 16\n",
            "\n",
            "Diferença de chegada: 1h 11min\n",
            "status do voo: muito atrasado\n",
            "hora (0-23):04\n",
            "\n",
            "Informe o horário real de chegada:\n",
            "hora(0-23):16\n",
            "minuto (0-59): 20\n",
            "\n",
            "Diferença de chegada: 3h 45min\n",
            "status do voo: muito adiantado\n"
          ]
        }
      ],
      "source": [
        "#07 Elabore um algoritmo que simule a pontualidade de voos. Receba o horário previsto e o horário real de chegada (hora e minuto). Informe o tempo de atraso ou adiantamento e classifique o voo como “pontual” (diferença ≤ 5 min), “ligeiramente atrasado/adiantado” (até 30 min) ou “muito atrasado/adiantado” (> 30 min).\n",
        "def para_minuto(hora,minuto):\n",
        "    return hora * 60 + minuto\n",
        "print('informe o horário previsto de chegada: ')\n",
        "hora_prevista = int(input('hora (0-23):'))\n",
        "minutos_previsto = int(input('minutos (0-59): '))\n",
        "print('\\nInforme o horário real de chegada:')\n",
        "hora_real = int(input('hora(0-23):'))\n",
        "minuto_real = int(input('minuto (0-59): '))\n",
        "minuto_previstos = para_minuto(hora_prevista, minutos_previsto)\n",
        "minutos_reais = para_minuto(hora_real, minuto_real)\n",
        "diferença = minutos_reais - minuto_previstos\n",
        "if abs(diferença) <= 5:\n",
        "  status = 'pontual'\n",
        "elif abs(diferença) <= 30:\n",
        "  status = 'ligeiramente atrasado' if diferença > 0 else 'ligeiramente adiantado'\n",
        "else:\n",
        "  status = 'muito atrasado' if diferença > 0 else 'muito adiantado'\n",
        "horas = abs(diferença) // 60\n",
        "minutos = abs(diferença) % 60\n",
        "print(f'\\nDiferença de chegada: {horas}h {minutos}min')\n",
        "print(f'status do voo: {status}')\n",
        "hora_prevista = int(input('hora (0-23):'))\n",
        "print('\\nInforme o horário real de chegada:')\n",
        "hora_real = int(input('hora(0-23):'))\n",
        "minuto_real = int(input('minuto (0-59): '))\n",
        "minuto_previstos = para_minuto(hora_prevista, minutos_previsto)\n",
        "minutos_reais = para_minuto(hora_real, minuto_real)\n",
        "diferença = minuto_real - minuto_previstos\n",
        "if abs(diferença) <= 5:\n",
        "  status = 'pontual'\n",
        "elif abs(diferença) <= 30:\n",
        "  status = 'ligeiramente atrasado' if diferença > 0 else 'ligeiramente adiantado'\n",
        "else:\n",
        "  status = 'muito atrasado' if diferença > 0 else 'muito adiantado'\n",
        "horas = abs(diferença) // 60\n",
        "minutos = abs(diferença) % 60\n",
        "print(f'\\nDiferença de chegada: {horas}h {minutos}min')\n",
        "print(f'status do voo: {status}')\n"
      ]
    },
    {
      "cell_type": "code",
      "execution_count": null,
      "metadata": {
        "colab": {
          "base_uri": "https://localhost:8080/"
        },
        "id": "hYWb41KfkpaN",
        "outputId": "b46dd7fd-6160-43fa-90bf-bcf4c29ea186"
      },
      "outputs": [
        {
          "name": "stdout",
          "output_type": "stream",
          "text": [
            "digite a hora que usou a tv: 15\n",
            "digite o minuto que usou a tv: 00\n",
            "digite a hora que usou o celular: 16\n",
            "digite o minuto que usou o celular: 00\n",
            "digite a hora que usou o computador: 14\n",
            "digite o minuto que usou o computador: 00\n",
            "o tempo total de tela foi de 45 horas e 0 minutos\n",
            "alerta: o tempo total de tela foi de mais 10 horas diárias\n",
            "o aparelho com maior uso foi o celular\n"
          ]
        }
      ],
      "source": [
        "#08 Crie um algoritmo que simule o cálculo de tempo total de tela (TV, celular, computador). Para cada dispositivo, o usuário informa quanto tempo usou por dia (em horas e minutos) por 3 dias. O sistema deve apresentar o tempo total em horas e minutos, destacando o aparelho com maior uso e emitindo um alerta caso o total passe de 10 horas diárias.\n",
        "hora_tv = int(input('digite a hora que usou a tv: '))\n",
        "minuto_tv = int(input('digite o minuto que usou a tv: '))\n",
        "hora_celular = int(input('digite a hora que usou o celular: '))\n",
        "minuto_celular = int(input('digite o minuto que usou o celular: '))\n",
        "hora_computador = int(input('digite a hora que usou o computador: '))\n",
        "minuto_computador = int(input('digite o minuto que usou o computador: '))\n",
        "hora_total = hora_tv + hora_celular + hora_computador\n",
        "minuto_total = minuto_tv + minuto_celular + minuto_computador\n",
        "if minuto_total >= 60:\n",
        "  hora_total = hora_total + 1\n",
        "  minuto_total = minuto_total - 60\n",
        "print(f'o tempo total de tela foi de {hora_total} horas e {minuto_total} minutos')\n",
        "if hora_total >= 10:\n",
        "  print('alerta: o tempo total de tela foi de mais 10 horas diárias')\n",
        "else:\n",
        "  print('o tempo total de tela não foi de menos de 10 horas diárias')\n",
        "\n",
        "if hora_tv > hora_celular and hora_tv > hora_computador:\n",
        "  print('o aparelho com maior uso foi a tv')\n",
        "elif hora_celular > hora_tv and hora_celular > hora_computador:\n",
        "   print('o aparelho com maior uso foi o celular')\n",
        "else:\n",
        "   print('o aparelho com maior uso foi o computador')\n",
        "\n"
      ]
    },
    {
      "cell_type": "code",
      "execution_count": null,
      "metadata": {
        "colab": {
          "base_uri": "https://localhost:8080/"
        },
        "id": "Z13zWHFPkw8G",
        "outputId": "6a0b1457-9a44-4ca3-bb1b-e0b58b3341e0"
      },
      "outputs": [
        {
          "name": "stdout",
          "output_type": "stream",
          "text": [
            "digite a area em m²: 12\n",
            "digite o tipo de ortaliça (cenoura, alface ou couve) cenoura\n",
            "dite o rendimento medio por m²: 15\n",
            "a produção esperada foi de 180 ortaliça \n",
            "será suficiente para abastecer um mercado local\n"
          ]
        }
      ],
      "source": [
        "#09 Elabore um algoritmo que simule o rendimento de um plantio de hortaliças. Receba a área (em m²), o tipo da planta (cenoura, alface ou couve) e o rendimento médio por m². Calcule a produção esperada e diga se será suficiente para abastecer um mercado local (mínimo de 100 kg).\n",
        "area = int(input('digite a area em m²: '))\n",
        "tipo = input('digite o tipo de ortaliça (cenoura, alface ou couve) ')\n",
        "redimento = int(input('dite o rendimento medio por m²: '))\n",
        "producao = area * redimento\n",
        "print(f'a produção esperada foi de {producao} ortaliça ')\n",
        "if producao >= 100:\n",
        "  print('será suficiente para abastecer um mercado local')\n",
        "else:\n",
        "  print('não será suficiente para abastecer um mercado local')\n"
      ]
    },
    {
      "cell_type": "code",
      "execution_count": null,
      "metadata": {
        "id": "UW2m4WSZkzC9",
        "colab": {
          "base_uri": "https://localhost:8080/"
        },
        "outputId": "fffc9cbb-5434-4bfc-9aca-18775832c358"
      },
      "outputs": [
        {
          "output_type": "stream",
          "name": "stdout",
          "text": [
            "=== plano de leitura personalizado ===\n",
            "Quantas páginas tem o livro? 250\n",
            "Quantos minutos você pode ler por dia? 2\n",
            "Quanl sua velocidade média de leitura ( páginas por minuto)? 15\n",
            "\n",
            " Estimativa de leitura:\n",
            "Você poderá ler aproxinadamente 30.0 páginas por dia. \n",
            "você terminará o livro em cerca de 9 dia(s).\n"
          ]
        }
      ],
      "source": [
        "#10 Crie um algoritmo que simule um plano de leitura. O usuário informa a quantidade de páginas de um livro, o tempo diário disponível para leitura (em minutos) e a velocidade média de leitura (páginas por minuto). O programa deve estimar quantos dias ele levará para terminar e sugerir um cronograma diário.\n",
        "import math\n",
        "print('=== plano de leitura personalizado ===')\n",
        "paginas_totais = int(input('Quantas páginas tem o livro? '))\n",
        "tempo_diario = int(input('Quantos minutos você pode ler por dia? '))\n",
        "velocidade = float(input('Quanl sua velocidade média de leitura ( páginas por minuto)? '))\n",
        "paginas_por_dia = tempo_diario * velocidade\n",
        "dias_necessarios = math.ceil(paginas_totais / paginas_por_dia)\n",
        "print(f'\\n Estimativa de leitura:')\n",
        "print(f'Você poderá ler aproxinadamente {paginas_por_dia:.1f} páginas por dia. ')\n",
        "print(f'você terminará o livro em cerca de {dias_necessarios} dia(s).')"
      ]
    },
    {
      "cell_type": "code",
      "execution_count": null,
      "metadata": {
        "colab": {
          "base_uri": "https://localhost:8080/"
        },
        "id": "mOfs86hGk1Xc",
        "outputId": "d033ad8e-627c-46fd-a9e6-6b57db0b12fb"
      },
      "outputs": [
        {
          "name": "stdout",
          "output_type": "stream",
          "text": [
            "digite o numero de pessoas a sua frete: 3\n",
            "digite o tempo medio de atendimento por pessoa: 15\n",
            "o tempo total de espera foi de 45 minutos\n",
            "é indicado esperar\n"
          ]
        }
      ],
      "source": [
        "#11 Desenvolva um algoritmo que simule o tempo de espera em uma fila de atendimento. O usuário informa o número de pessoas na frente e o tempo médio de atendimento por pessoa. O programa deve exibir o tempo total estimado de espera em horas e minutos e indicar se é melhor voltar depois.\n",
        "num_pessoa = int(input('digite o numero de pessoas a sua frete: '))\n",
        "tempo_medio = int(input('digite o tempo medio de atendimento por pessoa: '))\n",
        "tempo_total = num_pessoa * tempo_medio\n",
        "print(f'o tempo total de espera foi de {tempo_total} minutos')\n",
        "if tempo_total >= 60:\n",
        "  print('é melhor voltar depois')\n",
        "else:\n",
        "  print('é indicado esperar')\n"
      ]
    },
    {
      "cell_type": "code",
      "execution_count": null,
      "metadata": {
        "id": "KwzaFjl-k3H0",
        "colab": {
          "base_uri": "https://localhost:8080/"
        },
        "outputId": "954c9dc1-dd2d-4ac9-9239-bb158a7a4fe7"
      },
      "outputs": [
        {
          "output_type": "stream",
          "name": "stdout",
          "text": [
            "digite a data de fabricação (dd/mm/aaaa): 15/03/2025\n",
            "digite a data de validade (dd/mm/aaaa): 15/04/2025\n",
            "faltam 31 dias para o venimento \n",
            "cor: verde\n"
          ]
        }
      ],
      "source": [
        "#12 Elabore um algoritmo que ajude no controle de validade de alimentos. O usuário informa a data de fabricação e a validade (em dias). O programa calcula quantos dias faltam para vencer e emite alertas em cores (texto) se estiver perto de vencer (menos de 5 dias) ou já vencido.\n",
        "from datetime import datetime\n",
        "data_fab = input('digite a data de fabricação (dd/mm/aaaa): ')\n",
        "data_val = input('digite a data de validade (dd/mm/aaaa): ')\n",
        "data_fab = datetime.strptime(data_fab, '%d/%m/%Y')\n",
        "data_val = datetime.strptime(data_val, '%d/%m/%Y')\n",
        "dias_restantes = (data_val - data_fab).days\n",
        "print(f'faltam {dias_restantes} dias para o venimento ')\n",
        "if dias_restantes <= 5:\n",
        "  print('cor: vermelho')\n",
        "elif dias_restantes <= 10:\n",
        "  print('cor: amarelo')\n",
        "else:\n",
        "  print('cor: verde')\n"
      ]
    },
    {
      "cell_type": "code",
      "execution_count": null,
      "metadata": {
        "id": "GtZXs8Nxk6Rd",
        "colab": {
          "base_uri": "https://localhost:8080/"
        },
        "outputId": "06fb489b-ddfa-4d02-de9f-44ee31c03f18"
      },
      "outputs": [
        {
          "output_type": "stream",
          "name": "stdout",
          "text": [
            "digite a data atual (dd/mm/aaaa): 25/03/2025\n",
            "digite a data do evento (dd/mm/aaaa): 26/04/2025\n",
            "o evento ainda não passou\n",
            "faltam 32 dias para o evento\n"
          ]
        }
      ],
      "source": [
        "#13 Crie um algoritmo que receba a data atual e a data de um evento (em qualquer ano) e informe quantos dias faltam. O programa deve considerar se o evento está no mesmo ano, em um ano futuro ou se já passou.\n",
        "from datetime import datetime\n",
        "data_atual = input('digite a data atual (dd/mm/aaaa): ')\n",
        "data_evento = input('digite a data do evento (dd/mm/aaaa): ')\n",
        "data_atual = datetime.strptime(data_atual, '%d/%m/%Y')\n",
        "data_evento = datetime.strptime(data_evento, '%d/%m/%Y')\n",
        "dias_restantes = (data_evento - data_atual).days\n",
        "if dias_restantes < 0:\n",
        "  print('o evento ja passou')\n",
        "else:\n",
        "  print('o evento ainda não passou')\n",
        "print(f'faltam {dias_restantes} dias para o evento')\n"
      ]
    },
    {
      "cell_type": "code",
      "execution_count": null,
      "metadata": {
        "id": "LhyhM5_6k9C1",
        "colab": {
          "base_uri": "https://localhost:8080/"
        },
        "outputId": "e11db030-c724-46d9-9add-234d09246bc4"
      },
      "outputs": [
        {
          "output_type": "stream",
          "name": "stdout",
          "text": [
            "digite a idade da criança: 3\n",
            "digite o tempo de uso de dispositivos eletrônicos: (horas diaria)4\n",
            "o uso está exagerado\n"
          ]
        }
      ],
      "source": [
        "#14 Desenvolva um algoritmo que ajude a controlar o tempo de tela de crianças. O usuário deve informar a idade da criança e o tempo de uso de dispositivos eletrônicos. Com base na recomendação da OMS para cada faixa etária, diga se o uso está adequado ou exagerado.\n",
        "idade = int(input('digite a idade da criança: '))\n",
        "tempo = int(input('digite o tempo de uso de dispositivos eletrônicos: (horas diaria)'))\n",
        "if idade <= 2:\n",
        "    print('e reomendo uso nenhum')\n",
        "    print('o uso está exagerado')\n",
        "elif idade <= 5:\n",
        "  if tempo <= 1:\n",
        "    print('o uso está adequado')\n",
        "  else:\n",
        "    print('o uso está exagerado')\n",
        "elif idade <= 10:\n",
        "  if tempo <= 2:\n",
        "    print('o uso está adequado')\n",
        "  else:\n",
        "    print('o uso está exagerado')\n",
        "elif idade <= 15:\n",
        "  if tempo <= 3:\n",
        "    print('o uso está adequado')\n",
        "  else:\n",
        "    print('o uso está exagerado')\n"
      ]
    },
    {
      "cell_type": "code",
      "source": [
        "#15 Elabore um algoritmo que calcule o tempo exato de um voo com escalas. O usuário informa o horário de saída, o tempo de voo e o tempo total de espera em escalas. O sistema deve calcular o horário final de chegada e a duração total da viagem.\n",
        "hora_saida = int(input('Digite a hora de saída (0-23): '))\n",
        "minuto_saida = int(input('Digite o minuto de saída (0-59): '))\n",
        "tempo_voo = float(input('Digite o tempo de voo (minutos): '))\n",
        "tempo_voo = tempo_voo / 60\n",
        "tempo_escalas =int(input('Digite o tempo de espera em escalas (em minutos): '))\n",
        "tempo_escalas = tempo_escalas / 60\n",
        "\n",
        "tempo_total = tempo_voo + tempo_escalas\n",
        "horas_totais = int(tempo_total)\n",
        "minutos_totais = int((tempo_total - horas_totais) * 60)\n",
        "hora_chegada = hora_saida + horas_totais\n",
        "minuto_chegada = minuto_saida + minutos_totais\n",
        "if minuto_chegada >= 60:\n",
        "    minuto_chegada -= 60\n",
        "    hora_chegada += 1\n",
        "if hora_chegada >= 24:\n",
        "    hora_chegada -= 24\n",
        "print(f'\\nHorário de chegada: {hora_chegada:02d}:{minuto_chegada:02d}')\n",
        "print(f'Duração total da viagem: {horas_totais}h {minutos_totais}min')\n"
      ],
      "metadata": {
        "colab": {
          "base_uri": "https://localhost:8080/"
        },
        "id": "Auy24jPg2zUI",
        "outputId": "cbda0983-0be0-44d8-8b43-ccf095d33330"
      },
      "execution_count": null,
      "outputs": [
        {
          "output_type": "stream",
          "name": "stdout",
          "text": [
            "Digite a hora de saída (0-23): 15\n",
            "Digite o minuto de saída (0-59): 00\n",
            "Digite o tempo de voo (minutos): 90\n",
            "Digite o tempo de espera em escalas (em minutos): 30\n",
            "\n",
            "Horário de chegada: 17:00\n",
            "Duração total da viagem: 2h 0min\n"
          ]
        }
      ]
    },
    {
      "cell_type": "code",
      "execution_count": null,
      "metadata": {
        "colab": {
          "base_uri": "https://localhost:8080/"
        },
        "id": "DqkIKLP_lBuE",
        "outputId": "cc713f88-ae81-4651-b9eb-1a8b7ea448e8"
      },
      "outputs": [
        {
          "name": "stdout",
          "output_type": "stream",
          "text": [
            "Informe o valor da compra: R$ 207\n",
            "Valor com desconto: R$ 175.95\n",
            "Economia obtida: R$ 31.05\n"
          ]
        }
      ],
      "source": [
        "#16 Crie um algoritmo que calcule a economia gerada por um desconto progressivo. O usuário informa o valor de uma compra e o sistema aplica descontos por faixa: até R$100 (5%), até R$200 (10%), acima disso (15%). Exiba o valor com desconto e a economia obtida.\n",
        "valor_compra = float(input(\"Informe o valor da compra: R$ \"))\n",
        "if valor_compra <= 100:\n",
        "    desconto = 0.05\n",
        "elif valor_compra <= 200:\n",
        "    desconto = 0.10\n",
        "else:\n",
        "    desconto = 0.15\n",
        "\n",
        "valor_desconto = valor_compra * desconto\n",
        "valor_final = valor_compra - valor_desconto\n",
        "\n",
        "print(f\"Valor com desconto: R$ {valor_final:.2f}\")\n",
        "print(f\"Economia obtida: R$ {valor_desconto:.2f}\")\n"
      ]
    },
    {
      "cell_type": "code",
      "execution_count": null,
      "metadata": {
        "colab": {
          "base_uri": "https://localhost:8080/"
        },
        "id": "EjmEwEoblEEs",
        "outputId": "3b6611e9-d78c-4cac-ca30-8445596646e9"
      },
      "outputs": [
        {
          "name": "stdout",
          "output_type": "stream",
          "text": [
            "Informe sua idade: 20\n",
            "Informe o tempo (em anos) com hábitos saudáveis: 35\n",
            "Expectativa de vida aumentada em 3 anos.\n"
          ]
        }
      ],
      "source": [
        "#17 Elabore um algoritmo que simule a passagem de anos em um relógio biológico. O usuário informa a idade e o tempo (em anos) em que pretende manter hábitos saudáveis. O sistema deve estimar, com base em dados simulados, quanto de expectativa de vida ele “ganharia” a mais, usando faixas de ganho por período.\n",
        "\n",
        "idade = int(input(\"Informe sua idade: \"))\n",
        "tempo_saudavel = int(input(\"Informe o tempo (em anos) com hábitos saudáveis: \"))\n",
        "\n",
        "# Estimativa de ganho por faixa\n",
        "if tempo_saudavel < 5:\n",
        "    ganho = 1\n",
        "elif tempo_saudavel < 10:\n",
        "    ganho = 2\n",
        "else:\n",
        "    ganho = 3\n",
        "\n",
        "print(f\"Expectativa de vida aumentada em {ganho} anos.\")"
      ]
    },
    {
      "cell_type": "code",
      "execution_count": null,
      "metadata": {
        "colab": {
          "base_uri": "https://localhost:8080/"
        },
        "id": "P4ZT_0gXlF4s",
        "outputId": "72260223-b9f1-4a5a-eb01-cb12055b934f"
      },
      "outputs": [
        {
          "name": "stdout",
          "output_type": "stream",
          "text": [
            "Informe a hora que precisa acordar (hh:mm): 5:30\n",
            "Para 6 ciclos de sono, vá dormir às 20:15\n",
            "Para 5 ciclos de sono, vá dormir às 21:45\n",
            "Para 4 ciclos de sono, vá dormir às 23:15\n"
          ]
        }
      ],
      "source": [
        "#18 Crie um algoritmo que simule o horário ideal de sono. O usuário informa a hora em que precisa acordar e o sistema sugere três horários para dormir com base em ciclos de 90 minutos (recomendação médica).\n",
        "acordar = input(\"Informe a hora que precisa acordar (hh:mm): \")\n",
        "horas_acordar, minutos_acordar = map(int, acordar.split(\":\"))\n",
        "acordar_em_minutos = horas_acordar * 60 + minutos_acordar\n",
        "\n",
        "# Considerando ciclos de 90 minutos e 15 minutos para adormecer\n",
        "for ciclos in [6, 5, 4]:\n",
        "    tempo_sono = ciclos * 90 + 15\n",
        "    dormir_em_minutos = acordar_em_minutos - tempo_sono\n",
        "    horas_dormir = (dormir_em_minutos // 60) % 24\n",
        "    minutos_dormir = dormir_em_minutos % 60\n",
        "    print(f\"Para {ciclos} ciclos de sono, vá dormir às {horas_dormir:02d}:{minutos_dormir:02d}\")\n"
      ]
    },
    {
      "cell_type": "code",
      "execution_count": null,
      "metadata": {
        "colab": {
          "base_uri": "https://localhost:8080/"
        },
        "id": "ghBuy2aJlH4t",
        "outputId": "e18e5b7d-ced2-4f05-9923-849a289696ee"
      },
      "outputs": [
        {
          "name": "stdout",
          "output_type": "stream",
          "text": [
            "Informe quantos passos dá por minuto: 30\n",
            "Informe o tempo de caminhada (em minutos): 15\n",
            "Distância percorrida: 0.35 km\n",
            "Calorias gastas: 17.31 kcal\n"
          ]
        }
      ],
      "source": [
        "#19 Desenvolva um algoritmo que simule uma caminhada virtual. O usuário informa quantos passos dá por minuto e quanto tempo caminhou. O programa calcula quantos quilômetros percorreu, sabendo que 1.300 passos equivalem a 1 km, e fornece uma estimativa de calorias gastas.\n",
        "passos_por_minuto = int(input(\"Informe quantos passos dá por minuto: \"))\n",
        "tempo_caminhada = int(input(\"Informe o tempo de caminhada (em minutos): \"))\n",
        "\n",
        "total_passos = passos_por_minuto * tempo_caminhada\n",
        "distancia_km = total_passos / 1300  # 1300 passos = 1 km\n",
        "calorias = distancia_km * 50  # Estimativa: 50 kcal por km\n",
        "\n",
        "print(f\"Distância percorrida: {distancia_km:.2f} km\")\n",
        "print(f\"Calorias gastas: {calorias:.2f} kcal\")\n"
      ]
    },
    {
      "cell_type": "code",
      "execution_count": null,
      "metadata": {
        "colab": {
          "base_uri": "https://localhost:8080/"
        },
        "id": "NMprA40zlJkV",
        "outputId": "aabf02eb-36cf-4c9f-e3ea-d843e656105e"
      },
      "outputs": [
        {
          "name": "stdout",
          "output_type": "stream",
          "text": [
            "Informe a hora atual (hh:mm): 17:30\n",
            "Faltam 0 horas e 30 minutos para o pôr do sol.\n"
          ]
        }
      ],
      "source": [
        "#20 Elabore um algoritmo que leia a data e hora atual e informe em quanto tempo (em horas e minutos) acontecerá o pôr do sol, considerando que ele ocorrerá às 18h. Se o horário atual for após esse horário, exiba que o sol já se pôs.\n",
        "from datetime import datetime\n",
        "\n",
        "hora_atual = input(\"Informe a hora atual (hh:mm): \")\n",
        "horas_atual, minutos_atual = map(int, hora_atual.split(\":\"))\n",
        "atual_em_minutos = horas_atual * 60 + minutos_atual\n",
        "por_do_sol_em_minutos = 18 * 60  # 18h\n",
        "\n",
        "if atual_em_minutos < por_do_sol_em_minutos:\n",
        "    restante = por_do_sol_em_minutos - atual_em_minutos\n",
        "    horas_restante = restante // 60\n",
        "    minutos_restante = restante % 60\n",
        "    print(f\"Faltam {horas_restante} horas e {minutos_restante} minutos para o pôr do sol.\")\n",
        "else:\n",
        "    print(\"O sol já se pôs.\")"
      ]
    },
    {
      "cell_type": "code",
      "execution_count": null,
      "metadata": {
        "colab": {
          "base_uri": "https://localhost:8080/"
        },
        "id": "oMb1bHmwlK2l",
        "outputId": "9715d7fe-f2f0-4a15-fe6e-d2e2f3cf1ae0"
      },
      "outputs": [
        {
          "name": "stdout",
          "output_type": "stream",
          "text": [
            "Nome da entrada: pizza\n",
            "Tempo de preparo da entrada (em minutos): 40\n",
            "Nome da prato principal: carne\n",
            "Tempo de preparo da prato principal (em minutos): 35\n",
            "Nome da sobremesa: pudim\n",
            "Tempo de preparo da sobremesa (em minutos): 30\n",
            "\n",
            "Tempo total: 105 minutos\n",
            "Ordem sugerida para otimizar:\n",
            "- pizza (40 min)\n",
            "- carne (35 min)\n",
            "- pudim (30 min)\n"
          ]
        }
      ],
      "source": [
        "#21 Crie um algoritmo que simule o tempo de preparo de uma refeição. O usuário escolhe 3 pratos (entrada, principal, sobremesa), cada um com seu tempo de preparo. O sistema informa o tempo total e sugere uma ordem de preparo para otimizar o tempo, se possível.\n",
        "pratos = []\n",
        "for tipo in ['entrada', 'prato principal', 'sobremesa']:\n",
        "    nome = input(f\"Nome da {tipo}: \")\n",
        "    tempo = int(input(f\"Tempo de preparo da {tipo} (em minutos): \"))\n",
        "    pratos.append((nome, tempo))\n",
        "\n",
        "tempo_total = sum(p[1] for p in pratos)\n",
        "ordem_otimizada = sorted(pratos, key=lambda x: -x[1])\n",
        "\n",
        "print(f\"\\nTempo total: {tempo_total} minutos\")\n",
        "print(\"Ordem sugerida para otimizar:\")\n",
        "for nome, tempo in ordem_otimizada:\n",
        "    print(f\"- {nome} ({tempo} min)\")\n"
      ]
    },
    {
      "cell_type": "code",
      "execution_count": null,
      "metadata": {
        "colab": {
          "base_uri": "https://localhost:8080/"
        },
        "id": "4rO5n80KlMld",
        "outputId": "f175bd50-6330-4683-bfc0-5c489f292b41"
      },
      "outputs": [
        {
          "name": "stdout",
          "output_type": "stream",
          "text": [
            "Distância até o destino (km): 200\n",
            "Tempo de parada (horas): 15\n",
            "Velocidade média (km/h): 80\n",
            "\n",
            "Tempo total da jornada: 20.00 horas\n",
            "Tempo disponível para descanso: 15.00 horas\n"
          ]
        }
      ],
      "source": [
        "#22 Elabore um algoritmo que ajude um motorista a planejar uma viagem de ida e volta. Receba a distância (em km), o tempo de parada previsto na cidade de destino e a velocidade média. Calcule o tempo total da jornada e o tempo disponível para descanso antes do retorno.\n",
        "distancia = float(input(\"Distância até o destino (km): \"))\n",
        "parada = float(input(\"Tempo de parada (horas): \"))\n",
        "velocidade = float(input(\"Velocidade média (km/h): \"))\n",
        "\n",
        "tempo_viagem = distancia / velocidade\n",
        "tempo_total = tempo_viagem * 2 + parada\n",
        "descanso = parada\n",
        "\n",
        "print(f\"\\nTempo total da jornada: {tempo_total:.2f} horas\")\n",
        "print(f\"Tempo disponível para descanso: {descanso:.2f} horas\")"
      ]
    },
    {
      "cell_type": "code",
      "execution_count": null,
      "metadata": {
        "colab": {
          "base_uri": "https://localhost:8080/"
        },
        "id": "rdFgtQXslOJl",
        "outputId": "bb912274-6bd8-49ba-abb4-5f123179808e"
      },
      "outputs": [
        {
          "name": "stdout",
          "output_type": "stream",
          "text": [
            "Digite a data e hora atual (dd/mm/yyyy HH:MM): 25/04/2025   17:38\n",
            "\n",
            "Ano bissexto? Não\n",
            "Faltam 21622919 segundos para o ano novo.\n"
          ]
        }
      ],
      "source": [
        "#23 Desenvolva um algoritmo que calcule quantos segundos faltam para o ano novo, recebendo a data e hora atual. O sistema deve considerar se o ano é bissexto ou não.\n",
        "from datetime import datetime\n",
        "data_atual = input(\"Digite a data e hora atual (dd/mm/yyyy HH:MM): \")\n",
        "dt = datetime.strptime(data_atual, \"%d/%m/%Y %H:%M\")\n",
        "ano = dt.year\n",
        "bissexto = (ano % 4 == 0 and ano % 100 != 0) or (ano % 400 == 0)\n",
        "fim_ano = datetime(ano, 12, 31, 23, 59, 59)\n",
        "segundos_restantes = int((fim_ano - dt).total_seconds())\n",
        "print(f\"\\nAno bissexto? {'Sim' if bissexto else 'Não'}\")\n",
        "print(f\"Faltam {segundos_restantes} segundos para o ano novo.\")\n"
      ]
    },
    {
      "cell_type": "code",
      "execution_count": null,
      "metadata": {
        "id": "kaAe7g-OlQZs",
        "colab": {
          "base_uri": "https://localhost:8080/"
        },
        "outputId": "9a81e19d-dce5-45e7-b86a-88d3afd9edc7"
      },
      "outputs": [
        {
          "output_type": "stream",
          "name": "stdout",
          "text": [
            "\n",
            "Dia 1:\n",
            "Temperatura de manhã (ºC): 31\n",
            "Temperatura de tarde (ºC): 28\n",
            "Temperatura de noite (ºC): 22\n",
            "\n",
            "Dia 2:\n",
            "Temperatura de manhã (ºC): 22\n",
            "Temperatura de tarde (ºC): 31\n",
            "Temperatura de noite (ºC): 20\n",
            "\n",
            "Dia 3:\n",
            "Temperatura de manhã (ºC): 33\n",
            "Temperatura de tarde (ºC): 28\n",
            "Temperatura de noite (ºC): 21\n",
            "\n",
            "Dia 4:\n",
            "Temperatura de manhã (ºC): 22\n",
            "Temperatura de tarde (ºC): 34\n",
            "Temperatura de noite (ºC): 20\n",
            "\n",
            "Dia 5:\n",
            "Temperatura de manhã (ºC): 20\n",
            "Temperatura de tarde (ºC): 33\n",
            "Temperatura de noite (ºC): 22\n",
            "\n",
            " Resultado da semana:\n",
            "maior temperatura: 34.0 °C\n",
            "menor temperatura: 20.0 °C\n",
            "média geral: 25.8 °C\n",
            "nenhum risco de insolação.\n"
          ]
        }
      ],
      "source": [
        "#24 Crie um algoritmo que simule a leitura de um termômetro inteligente. O usuário informa temperaturas de manhã, tarde e noite por 5 dias. O sistema deve exibir a maior e menor temperatura da semana, a média geral e se houve risco de insolação (temperaturas acima de 35ºC em dois períodos do mesmo dia).\n",
        "def termometro_simples():\n",
        "  todas_temperaturas = []\n",
        "  risco_insolacao = []\n",
        "  for dia in range(1, 6):\n",
        "    print(f\"\\nDia {dia}:\")\n",
        "    manha = float(input(\"Temperatura de manhã (ºC): \"))\n",
        "    tarde = float(input(\"Temperatura de tarde (ºC): \"))\n",
        "    noite = float(input(\"Temperatura de noite (ºC): \"))\n",
        "    dia_temp = [manha, tarde, noite]\n",
        "    todas_temperaturas += dia_temp\n",
        "    if sum(1 for t in dia_temp if t > 35) >= 2:\n",
        "      risco_insolacao.append(dia)\n",
        "  maior = max( todas_temperaturas )\n",
        "  menor = min( todas_temperaturas )\n",
        "  media = sum( todas_temperaturas ) / len(todas_temperaturas)\n",
        "  print(\"\\n Resultado da semana:\")\n",
        "  print(f\"maior temperatura: {maior} °C\")\n",
        "  print(f\"menor temperatura: {menor} °C\")\n",
        "  print(f\"média geral: {media:.1f} °C\")\n",
        "  if risco_insolacao:\n",
        "    print(\" Risco de insolação nos dias:\", \", \".join(str(d) for d in risco_insolacao))\n",
        "  else:\n",
        "    print(\"nenhum risco de insolação.\")\n",
        "termometro_simples()\n"
      ]
    },
    {
      "cell_type": "code",
      "execution_count": null,
      "metadata": {
        "id": "4f8-eOfBlSgt",
        "colab": {
          "base_uri": "https://localhost:8080/"
        },
        "outputId": "09dcffe5-ebe3-4819-cea9-387da0a2fb60"
      },
      "outputs": [
        {
          "output_type": "stream",
          "name": "stdout",
          "text": [
            "Velocidade média no dia 1 (km/h): 5\n",
            "Duração da pedalada no dia 1 (horas): 24\n",
            "Distância percorrida no dia 1: 120.00 km\n",
            "Velocidade média no dia 2 (km/h): 3\n",
            "Duração da pedalada no dia 2 (horas): 12\n",
            "Distância percorrida no dia 2: 36.00 km\n",
            "Velocidade média no dia 3 (km/h): 7\n",
            "Duração da pedalada no dia 3 (horas): 12\n",
            "Distância percorrida no dia 3: 84.00 km\n",
            "\n",
            "Distância total percorrida: 240.00 km\n",
            "Dia de maior rendimento: Dia 1\n"
          ]
        }
      ],
      "source": [
        "#25 Elabore um algoritmo que simule o deslocamento de um ciclista. O usuário informa a velocidade média (em km/h) e a duração da pedalada em dias diferentes. O programa calcula a distância total percorrida e destaca o dia de maior rendimento.\n",
        "velocidades = []\n",
        "duracoes = []\n",
        "distancias = []\n",
        "for dia in range(1, 4):\n",
        "    velocidade = float(input(f\"Velocidade média no dia {dia} (km/h): \"))\n",
        "    duracao = float(input(f\"Duração da pedalada no dia {dia} (horas): \"))\n",
        "    velocidades.append(velocidade)\n",
        "    duracoes.append(duracao)\n",
        "    distancia = velocidade * duracao\n",
        "    distancias.append(distancia)\n",
        "    print(f\"Distância percorrida no dia {dia}: {distancia:.2f} km\")\n",
        "\n",
        "total_distancia = sum(distancias)\n",
        "dia_maior_rendimento = distancias.index(max(distancias)) + 1\n",
        "print(f\"\\nDistância total percorrida: {total_distancia:.2f} km\")\n",
        "print(f\"Dia de maior rendimento: Dia {dia_maior_rendimento}\")\n",
        "\n"
      ]
    },
    {
      "cell_type": "code",
      "execution_count": null,
      "metadata": {
        "colab": {
          "base_uri": "https://localhost:8080/"
        },
        "id": "QshNSYC7lUY0",
        "outputId": "fc962893-ce41-4b7b-a97c-7cdf9a31fdfc"
      },
      "outputs": [
        {
          "output_type": "stream",
          "name": "stdout",
          "text": [
            "Aparelho 1 - Potência (W): 150\n",
            "Aparelho 1 - Horas de uso diário: 5\n",
            "Consumo mensal do aparelho 1: 22.50 kWh\n",
            "Aparelho 2 - Potência (W): 350\n",
            "Aparelho 2 - Horas de uso diário: 8\n",
            "Consumo mensal do aparelho 2: 84.00 kWh\n",
            "Aparelho 3 - Potência (W): 562\n",
            "Aparelho 3 - Horas de uso diário: 6\n",
            "Consumo mensal do aparelho 3: 101.16 kWh\n",
            "\n",
            "Consumo total da residência: 207.66 kWh\n"
          ]
        }
      ],
      "source": [
        "#26 Crie um algoritmo que simule o registro de tempo de uso de energia por aparelhos domésticos. Para três aparelhos, o usuário informa a potência (em watts) e o tempo de uso diário (em horas). O sistema deve calcular o consumo mensal (em kWh) de cada aparelho e o total da residência.\n",
        "total = 0\n",
        "for i in range(1, 4):\n",
        "    pot = float(input(f\"Aparelho {i} - Potência (W): \"))\n",
        "    horas = float(input(f\"Aparelho {i} - Horas de uso diário: \"))\n",
        "    consumo = (pot * horas * 30) / 1000\n",
        "    print(f\"Consumo mensal do aparelho {i}: {consumo:.2f} kWh\")\n",
        "\n",
        "    total += consumo\n",
        "print(f\"\\nConsumo total da residência: {total:.2f} kWh\")\n"
      ]
    },
    {
      "cell_type": "code",
      "execution_count": null,
      "metadata": {
        "colab": {
          "base_uri": "https://localhost:8080/"
        },
        "id": "DZ4ghKbrlXkV",
        "outputId": "650fb4a7-f937-4107-edde-0a0a02c95449"
      },
      "outputs": [
        {
          "name": "stdout",
          "output_type": "stream",
          "text": [
            "Hora da primeira dose: 20\n",
            "Minuto da primeira dose: 15\n",
            "Próxima dose 1: 04:15\n",
            "Próxima dose 2: 12:15\n",
            "Próxima dose 3: 20:15\n"
          ]
        }
      ],
      "source": [
        "#27 Desenvolva um algoritmo que receba a hora e minuto em que um paciente tomou um remédio e calcule os próximos 3 horários ideais para as próximas doses, considerando que o medicamento deve ser tomado a cada 8 horas.\n",
        "from datetime import timedelta\n",
        "hora = int(input(\"Hora da primeira dose: \"))\n",
        "minuto = int(input(\"Minuto da primeira dose: \"))\n",
        "inicio = timedelta(hours=hora, minutes=minuto)\n",
        "\n",
        "for i in range(1, 4):\n",
        "    proxima = inicio + timedelta(hours=8*i)\n",
        "    horas, minutos = divmod(proxima.seconds, 3600)\n",
        "    minutos //= 60\n",
        "    print(f\"Próxima dose {i}: {horas:02d}:{minutos:02d}\")"
      ]
    },
    {
      "cell_type": "code",
      "execution_count": null,
      "metadata": {
        "colab": {
          "base_uri": "https://localhost:8080/"
        },
        "id": "5Yi6jroFlZKl",
        "outputId": "0402c049-ec39-4939-fa73-d633f795ba2a"
      },
      "outputs": [
        {
          "name": "stdout",
          "output_type": "stream",
          "text": [
            "Hora atual (HH:MM): 17:44\n",
            "Faltam 2h16min para o filme.\n"
          ]
        }
      ],
      "source": [
        "#28 Elabore um algoritmo que receba a hora atual e diga quanto tempo falta para o início de um filme, que sempre começa às 20h em ponto. Se já passou desse horário, informe quanto tempo de filme a pessoa perdeu, assumindo que o filme tem 2h de duração.\n",
        "hora_atual, minuto_atual = map(int, input(\"Hora atual (HH:MM): \").split(':')) # Modified line to accept input in HH:MM format and split it into hours and minutes\n",
        "inicio_filme = 20 * 60\n",
        "agora = hora_atual * 60 + minuto_atual\n",
        "\n",
        "if agora < inicio_filme:\n",
        "    restante = inicio_filme - agora\n",
        "    print(f\"Faltam {restante//60}h{restante%60}min para o filme.\")\n",
        "elif agora <= inicio_filme + 120:\n",
        "    perdido = agora - inicio_filme\n",
        "    print(f\"Você perdeu {perdido//60}h{perdido%60}min do filme.\")\n",
        "else:\n",
        "    print(\"O filme já acabou.\")\n"
      ]
    },
    {
      "cell_type": "code",
      "execution_count": null,
      "metadata": {
        "colab": {
          "base_uri": "https://localhost:8080/"
        },
        "id": "SOYvyJMllbI9",
        "outputId": "894d6f29-c382-4bd1-c046-2bddca334397"
      },
      "outputs": [
        {
          "name": "stdout",
          "output_type": "stream",
          "text": [
            "Total de horas disponíveis na semana: 25\n",
            "Número de disciplinas: 4\n",
            "\n",
            "Dedique 6.25 horas por disciplina.\n"
          ]
        }
      ],
      "source": [
        "#29 Crie um algoritmo que ajude a calcular o tempo ideal de estudo. O usuário informa o total de horas disponíveis na semana e a quantidade de disciplinas. O sistema calcula quantas horas deve dedicar a cada matéria e alerta se alguma ficar com menos de 1h.\n",
        "horas_semana = float(input(\"Total de horas disponíveis na semana: \"))\n",
        "disciplinas = int(input(\"Número de disciplinas: \"))\n",
        "horas_por_materia = horas_semana / disciplinas\n",
        "\n",
        "print(f\"\\nDedique {horas_por_materia:.2f} horas por disciplina.\")\n",
        "if horas_por_materia < 1:\n",
        "    print(\" Alerta: Algumas disciplinas estão com menos de 1h por semana.\")\n"
      ]
    },
    {
      "cell_type": "code",
      "execution_count": null,
      "metadata": {
        "colab": {
          "base_uri": "https://localhost:8080/"
        },
        "id": "mmB7NpybldBH",
        "outputId": "0723b2b5-114b-4822-e74a-0bae05f85daa"
      },
      "outputs": [
        {
          "name": "stdout",
          "output_type": "stream",
          "text": [
            "Tarefas concluídas no dia 1: 20\n",
            "Tarefas concluídas no dia 2: 40\n",
            "Tarefas concluídas no dia 3: 60\n",
            "Tarefas concluídas no dia 4: 15\n",
            "Tarefas concluídas no dia 5: 2\n",
            "\n",
            "Média de tarefas por dia: 27.40\n",
            "Alerta: Produtividade caiu por dois dias seguidos.\n"
          ]
        }
      ],
      "source": [
        "#30 Desenvolva um algoritmo que simule o acompanhamento de produtividade de um trabalhador remoto. Receba o número de tarefas concluídas por dia durante 5 dias e calcule a média. Se a produtividade cair por dois dias consecutivos, o sistema emite um alerta.\n",
        "tarefas = []\n",
        "queda = 0\n",
        "\n",
        "for i in range(5):\n",
        "    t = int(input(f\"Tarefas concluídas no dia {i+1}: \"))\n",
        "    tarefas.append(t)\n",
        "\n",
        "media = sum(tarefas) / len(tarefas)\n",
        "print(f\"\\nMédia de tarefas por dia: {media:.2f}\")\n",
        "\n",
        "for i in range(1, 5):\n",
        "    if tarefas[i] < tarefas[i-1]:\n",
        "        queda += 1\n",
        "        if queda == 2:\n",
        "            print( \"Alerta: Produtividade caiu por dois dias seguidos.\")\n",
        "            break\n",
        "    else:\n",
        "        queda = 0"
      ]
    }
  ],
  "metadata": {
    "colab": {
      "provenance": [],
      "include_colab_link": true
    },
    "kernelspec": {
      "display_name": "Python 3",
      "name": "python3"
    },
    "language_info": {
      "name": "python"
    }
  },
  "nbformat": 4,
  "nbformat_minor": 0
}